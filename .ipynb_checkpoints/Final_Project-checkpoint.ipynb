{
 "cells": [
  {
   "cell_type": "markdown",
   "metadata": {},
   "source": [
    "## Data Science Immesive Final Project (General Assembly ATX Spring 2017)\n",
    "The data for my final project was obtained from Harpers Ferry,WV. My data was obtained through the\n",
    "Appalachian Trail conservancy with the intent of being used for my final project \n",
    "\n",
    "#### Hypothesis: Can you predict how long it will take a thru hike to complete the Appalachian Trail based on the features of this dataset.\n",
    "\n"
   ]
  },
  {
   "cell_type": "markdown",
   "metadata": {},
   "source": [
    "Ideas to concatenate this dataset "
   ]
  },
  {
   "cell_type": "markdown",
   "metadata": {},
   "source": [
    "# Data Cleaning Table of Content: \n",
    "I explore the data column by column to understand what sort of missing or inaccurate values are contained.\n",
    "\n",
    "def (clean_1): Columns that can/will be dropped\n",
    "- Rename columns to be more accurate.\n",
    "- Drop 'Days Elapsed' column as it does not accuratly calculate the number of days on trail. (I replace this column in clean_2 with 'Total_Days')\n",
    "- Drop 'Hiking_Disability' Column as it was not well reported ()\n",
    "- Drop Dog Weight Column (16238 of possible 17835 values were 0)\n",
    "- Drop columns with too many null values (columns that exceed 85 percent null values)\n",
    "- drop null values out of columns\n",
    "- **** come back to this Drop Under2kAmount column since (16125 out of 17835) values were 0 essentially the same as null values \n",
    "- Dropped 'Hiking \n",
    "\n",
    "\n",
    "def (clean_2/clean_3): Clean up the Age column \n",
    "- Fill null values in 'Age' column with median age.\n",
    "- All values below 4(There were some negative values) \n",
    "- The youngest person to thru-hike the AT is 5 so I assume all values above this are \n",
    "\n",
    " \n",
    "    \n",
    "def (clean_4): Datetime objects, \n",
    "-  Convert 'Start' and 'Finish' columns to Datetime objects\n",
    "-  Create a new column 'Total Days' that calculates total days on trail (at['Finish] - at['Start'])) \n",
    "-  There was as single null value in completion year, however, the finish date showed the hiker completed in 2016 so I changed the value to 2016 \n",
    "- I conveted the completion yr column from floats to ints \n",
    "\n",
    "\n",
    "\n",
    "def (clean_5/clean_6): Clean 'Sex' column\n",
    "- In (clean_1) I dropped all null values in this column \n",
    "- Drop 'oher' and 'othe' out of the sex column\n",
    "- Convert the 'Sex' column to numerical format with the map function\n",
    "- Drop null values in the Sex column. There were only 2. \n",
    "\n",
    "def (clean_7/clean_8): Clean 'Hike_Type' column (Drop section and alternative hikes)\n",
    "- Drop values in the Hike column that are labeled alternative as I am unsure what these are and how to define them.\n",
    "- Since I am only interested in Thru Hikers and trying to predict time on trail based on people trying to hike in 6 months, and since all thru section hikers take varying amounts of time. \n",
    "\n",
    "\n",
    "def (clean_10): Reset Index \n",
    "- The index needed to be reset since I had dropped many rows containing null values \n",
    "\n"
   ]
  },
  {
   "cell_type": "markdown",
   "metadata": {},
   "source": [
    "# To do \n",
    "\n",
    "3.) Make True/False columns into dummy variables \n",
    "\n",
    "5.) Yo Yo split that into 1 Northbound and 1 southbound. \n",
    "\n",
    "6.) Race \n",
    "\n",
    "7.) State \n",
    "\n",
    "8.) There are negative total days (str.replace values)\n",
    "\n",
    "\n"
   ]
  },
  {
   "cell_type": "code",
   "execution_count": 91,
   "metadata": {
    "collapsed": true
   },
   "outputs": [],
   "source": [
    "import pandas as pd\n",
    "import matplotlib.pyplot as plt\n",
    "%matplotlib inline\n",
    "import seaborn as sns"
   ]
  },
  {
   "cell_type": "code",
   "execution_count": 92,
   "metadata": {
    "collapsed": true
   },
   "outputs": [],
   "source": [
    "at = pd.read_excel('BenHikersInfo.xlsx')"
   ]
  },
  {
   "cell_type": "markdown",
   "metadata": {},
   "source": [
    "## Cleaning Dataset"
   ]
  },
  {
   "cell_type": "code",
   "execution_count": 93,
   "metadata": {
    "collapsed": false
   },
   "outputs": [],
   "source": [
    "def clean_1(df):\n",
    "    df.drop(labels = df[['Disease Other','School','Hiking Disability','DogWeightLbs','Days Elapsed','MinorityComments','School',\n",
    "                         'DogBreed','Disability','Under2KAmount']], axis = 1, inplace = True)\n",
    "    df.rename(columns = {'AgeYrFin': 'Age','Race or Heritage': 'Race',\n",
    "                        'StAbbrev':'State', 'Hiking Disability ': 'Hiking_Disability', \n",
    "                         'Hike Type': 'Hike_Type', 'Yr Comp':'completion_yr',\n",
    "                         },inplace = True)\n",
    "    df.dropna(subset= ['Start','Sex','Race','Country','State','Hike_Type'],inplace = True)\n",
    "\n",
    "clean_1(at)  \n",
    "\n",
    "\n",
    "def clean_2(df):\n",
    "    df['Age'] = df['Age'].fillna(df['Age'].median())\n",
    "clean_2(at)\n",
    "\n",
    "\n",
    "def clean_3(x,median_age): \n",
    "    if x < 4:\n",
    "        return median_age\n",
    "    else:\n",
    "        return x \n",
    "at['Age'] = at['Age'].apply(lambda x: clean_3(x, at['Age'].median()))"
   ]
  },
  {
   "cell_type": "code",
   "execution_count": 94,
   "metadata": {
    "collapsed": false
   },
   "outputs": [],
   "source": [
    "def clean_4(df):\n",
    "    df['Finish'] = pd.to_datetime(df['Finish'])\n",
    "    df['Start'] = pd.to_datetime(df['Start'])\n",
    "    df['Total_Days'] = df['Finish'] - df['Start']\n",
    "    df['completion_yr'].fillna(2016,inplace = True)\n",
    "    df['completion_yr'] = df['completion_yr'].astype(int)\n",
    "clean_4(at)"
   ]
  },
  {
   "cell_type": "code",
   "execution_count": 95,
   "metadata": {
    "collapsed": false
   },
   "outputs": [],
   "source": [
    "def clean_5(df):\n",
    "    df['Sex'] = df['Sex'].map({'M':0,'F':1})\n",
    "    to_drop = ['othe','Oher']\n",
    "    x = df[df['Sex'].isin(to_drop)]\n",
    "    y = x.index\n",
    "    df.drop(y,inplace = True)\n",
    "clean_5(at)\n",
    "\n",
    "def clean_6(df):\n",
    "    df.dropna(subset = ['Sex'], inplace = True)\n",
    "clean_6(at)"
   ]
  },
  {
   "cell_type": "code",
   "execution_count": 96,
   "metadata": {
    "collapsed": false
   },
   "outputs": [],
   "source": [
    "def clean_7(df):\n",
    "    to_drop = ['Alternative','alternative','Alterntive']\n",
    "    x = df[df['Hike_Type'].isin(to_drop)]\n",
    "    y = x.index\n",
    "    df.drop(y,inplace = True)\n",
    "clean_7(at)\n",
    "\n",
    "def clean_8(df):\n",
    "    to_drop = ['Section']\n",
    "    x = df[df['Hike_Type'].isin(to_drop)]\n",
    "    y = x.index\n",
    "    df.drop(y,inplace = True)\n",
    "clean_8(at)"
   ]
  },
  {
   "cell_type": "code",
   "execution_count": 97,
   "metadata": {
    "collapsed": false,
    "scrolled": true
   },
   "outputs": [],
   "source": [
    "def clean_10(df):\n",
    "    df.reset_index(inplace = True, drop = True)\n",
    "clean_10(at)"
   ]
  },
  {
   "cell_type": "code",
   "execution_count": 98,
   "metadata": {
    "collapsed": false
   },
   "outputs": [
    {
     "data": {
      "text/html": [
       "<div>\n",
       "<table border=\"1\" class=\"dataframe\">\n",
       "  <thead>\n",
       "    <tr style=\"text-align: right;\">\n",
       "      <th></th>\n",
       "      <th>Finish</th>\n",
       "      <th>Age</th>\n",
       "      <th>Race</th>\n",
       "      <th>State</th>\n",
       "      <th>Sex</th>\n",
       "      <th>Country</th>\n",
       "      <th>Hike_Type</th>\n",
       "      <th>Start</th>\n",
       "      <th>completion_yr</th>\n",
       "      <th>HikedWDog</th>\n",
       "      <th>WinterHike</th>\n",
       "      <th>Under2KSpent</th>\n",
       "      <th>SchoolCredit</th>\n",
       "      <th>Minority</th>\n",
       "      <th>Vegetarian</th>\n",
       "      <th>DehydrateOwnFood</th>\n",
       "      <th>Giardia</th>\n",
       "      <th>Lyme</th>\n",
       "      <th>Norovirus</th>\n",
       "      <th>Total_Days</th>\n",
       "    </tr>\n",
       "  </thead>\n",
       "  <tbody>\n",
       "    <tr>\n",
       "      <th>0</th>\n",
       "      <td>1948-12-31</td>\n",
       "      <td>29.0</td>\n",
       "      <td>Prefer not to say</td>\n",
       "      <td>PA</td>\n",
       "      <td>0.0</td>\n",
       "      <td>USA</td>\n",
       "      <td>NOBO</td>\n",
       "      <td>1948-01-01</td>\n",
       "      <td>1948</td>\n",
       "      <td>False</td>\n",
       "      <td>False</td>\n",
       "      <td>False</td>\n",
       "      <td>False</td>\n",
       "      <td>False</td>\n",
       "      <td>False</td>\n",
       "      <td>False</td>\n",
       "      <td>False</td>\n",
       "      <td>False</td>\n",
       "      <td>False</td>\n",
       "      <td>365 days</td>\n",
       "    </tr>\n",
       "    <tr>\n",
       "      <th>1</th>\n",
       "      <td>1951-10-10</td>\n",
       "      <td>28.0</td>\n",
       "      <td>Prefer not to say</td>\n",
       "      <td>CT</td>\n",
       "      <td>0.0</td>\n",
       "      <td>USA</td>\n",
       "      <td>SOBO</td>\n",
       "      <td>1951-05-30</td>\n",
       "      <td>1951</td>\n",
       "      <td>False</td>\n",
       "      <td>False</td>\n",
       "      <td>False</td>\n",
       "      <td>False</td>\n",
       "      <td>False</td>\n",
       "      <td>False</td>\n",
       "      <td>False</td>\n",
       "      <td>False</td>\n",
       "      <td>False</td>\n",
       "      <td>False</td>\n",
       "      <td>133 days</td>\n",
       "    </tr>\n",
       "    <tr>\n",
       "      <th>2</th>\n",
       "      <td>1951-09-30</td>\n",
       "      <td>29.0</td>\n",
       "      <td>Prefer not to say</td>\n",
       "      <td>GA</td>\n",
       "      <td>0.0</td>\n",
       "      <td>USA</td>\n",
       "      <td>NOBO</td>\n",
       "      <td>1951-05-31</td>\n",
       "      <td>1951</td>\n",
       "      <td>False</td>\n",
       "      <td>False</td>\n",
       "      <td>False</td>\n",
       "      <td>False</td>\n",
       "      <td>False</td>\n",
       "      <td>False</td>\n",
       "      <td>False</td>\n",
       "      <td>False</td>\n",
       "      <td>False</td>\n",
       "      <td>False</td>\n",
       "      <td>122 days</td>\n",
       "    </tr>\n",
       "    <tr>\n",
       "      <th>3</th>\n",
       "      <td>1959-09-17</td>\n",
       "      <td>20.0</td>\n",
       "      <td>Caucasian or White</td>\n",
       "      <td>GA</td>\n",
       "      <td>0.0</td>\n",
       "      <td>USA</td>\n",
       "      <td>NOBO</td>\n",
       "      <td>1959-05-23</td>\n",
       "      <td>1959</td>\n",
       "      <td>False</td>\n",
       "      <td>False</td>\n",
       "      <td>False</td>\n",
       "      <td>False</td>\n",
       "      <td>False</td>\n",
       "      <td>False</td>\n",
       "      <td>False</td>\n",
       "      <td>False</td>\n",
       "      <td>False</td>\n",
       "      <td>False</td>\n",
       "      <td>117 days</td>\n",
       "    </tr>\n",
       "    <tr>\n",
       "      <th>4</th>\n",
       "      <td>1965-09-23</td>\n",
       "      <td>29.0</td>\n",
       "      <td>Prefer not to say</td>\n",
       "      <td>PA</td>\n",
       "      <td>0.0</td>\n",
       "      <td>USA</td>\n",
       "      <td>SOBO</td>\n",
       "      <td>1965-04-16</td>\n",
       "      <td>1965</td>\n",
       "      <td>False</td>\n",
       "      <td>False</td>\n",
       "      <td>False</td>\n",
       "      <td>False</td>\n",
       "      <td>False</td>\n",
       "      <td>False</td>\n",
       "      <td>False</td>\n",
       "      <td>False</td>\n",
       "      <td>False</td>\n",
       "      <td>False</td>\n",
       "      <td>160 days</td>\n",
       "    </tr>\n",
       "  </tbody>\n",
       "</table>\n",
       "</div>"
      ],
      "text/plain": [
       "      Finish   Age                Race State  Sex Country Hike_Type  \\\n",
       "0 1948-12-31  29.0   Prefer not to say    PA  0.0     USA      NOBO   \n",
       "1 1951-10-10  28.0   Prefer not to say    CT  0.0     USA      SOBO   \n",
       "2 1951-09-30  29.0   Prefer not to say    GA  0.0     USA      NOBO   \n",
       "3 1959-09-17  20.0  Caucasian or White    GA  0.0     USA      NOBO   \n",
       "4 1965-09-23  29.0   Prefer not to say    PA  0.0     USA      SOBO   \n",
       "\n",
       "       Start  completion_yr HikedWDog WinterHike Under2KSpent SchoolCredit  \\\n",
       "0 1948-01-01           1948     False      False        False        False   \n",
       "1 1951-05-30           1951     False      False        False        False   \n",
       "2 1951-05-31           1951     False      False        False        False   \n",
       "3 1959-05-23           1959     False      False        False        False   \n",
       "4 1965-04-16           1965     False      False        False        False   \n",
       "\n",
       "  Minority Vegetarian DehydrateOwnFood Giardia   Lyme Norovirus  Total_Days  \n",
       "0    False      False            False   False  False     False    365 days  \n",
       "1    False      False            False   False  False     False    133 days  \n",
       "2    False      False            False   False  False     False    122 days  \n",
       "3    False      False            False   False  False     False    117 days  \n",
       "4    False      False            False   False  False     False    160 days  "
      ]
     },
     "execution_count": 98,
     "metadata": {},
     "output_type": "execute_result"
    }
   ],
   "source": [
    "at.head()"
   ]
  },
  {
   "cell_type": "code",
   "execution_count": 99,
   "metadata": {
    "collapsed": false
   },
   "outputs": [
    {
     "data": {
      "text/plain": [
       "NOBO     10524\n",
       "SOBO      1503\n",
       "Flip       914\n",
       "Yo Yo        1\n",
       "Name: Hike_Type, dtype: int64"
      ]
     },
     "execution_count": 99,
     "metadata": {},
     "output_type": "execute_result"
    }
   ],
   "source": [
    "# circle back to this \n",
    "at['Hike_Type'].value_counts()"
   ]
  },
  {
   "cell_type": "code",
   "execution_count": 108,
   "metadata": {
    "collapsed": false
   },
   "outputs": [
    {
     "data": {
      "text/plain": [
       "5910    -3475 days\n",
       "12174      -1 days\n",
       "12524      10 days\n",
       "12679      40 days\n",
       "12053      43 days\n",
       "Name: Total_Days, dtype: timedelta64[ns]"
      ]
     },
     "execution_count": 108,
     "metadata": {},
     "output_type": "execute_result"
    }
   ],
   "source": [
    "at['Total_Days'].nsmallest()"
   ]
  },
  {
   "cell_type": "code",
   "execution_count": 102,
   "metadata": {
    "collapsed": false
   },
   "outputs": [
    {
     "data": {
      "text/html": [
       "<div>\n",
       "<table border=\"1\" class=\"dataframe\">\n",
       "  <thead>\n",
       "    <tr style=\"text-align: right;\">\n",
       "      <th></th>\n",
       "      <th>Finish</th>\n",
       "      <th>Age</th>\n",
       "      <th>Race</th>\n",
       "      <th>State</th>\n",
       "      <th>Sex</th>\n",
       "      <th>Country</th>\n",
       "      <th>Hike_Type</th>\n",
       "      <th>Start</th>\n",
       "      <th>completion_yr</th>\n",
       "      <th>HikedWDog</th>\n",
       "      <th>WinterHike</th>\n",
       "      <th>Under2KSpent</th>\n",
       "      <th>SchoolCredit</th>\n",
       "      <th>Minority</th>\n",
       "      <th>Vegetarian</th>\n",
       "      <th>DehydrateOwnFood</th>\n",
       "      <th>Giardia</th>\n",
       "      <th>Lyme</th>\n",
       "      <th>Norovirus</th>\n",
       "      <th>Total_Days</th>\n",
       "    </tr>\n",
       "  </thead>\n",
       "  <tbody>\n",
       "    <tr>\n",
       "      <th>12915</th>\n",
       "      <td>2016-11-03</td>\n",
       "      <td>23.0</td>\n",
       "      <td>Prefer not to say</td>\n",
       "      <td>VA</td>\n",
       "      <td>0.0</td>\n",
       "      <td>USA</td>\n",
       "      <td>Yo Yo</td>\n",
       "      <td>2016-02-22</td>\n",
       "      <td>2016</td>\n",
       "      <td>False</td>\n",
       "      <td>False</td>\n",
       "      <td>False</td>\n",
       "      <td>False</td>\n",
       "      <td>False</td>\n",
       "      <td>False</td>\n",
       "      <td>False</td>\n",
       "      <td>False</td>\n",
       "      <td>False</td>\n",
       "      <td>False</td>\n",
       "      <td>255 days</td>\n",
       "    </tr>\n",
       "  </tbody>\n",
       "</table>\n",
       "</div>"
      ],
      "text/plain": [
       "          Finish   Age               Race State  Sex Country Hike_Type  \\\n",
       "12915 2016-11-03  23.0  Prefer not to say    VA  0.0     USA     Yo Yo   \n",
       "\n",
       "           Start  completion_yr HikedWDog WinterHike Under2KSpent  \\\n",
       "12915 2016-02-22           2016     False      False        False   \n",
       "\n",
       "      SchoolCredit Minority Vegetarian DehydrateOwnFood Giardia   Lyme  \\\n",
       "12915        False    False      False            False   False  False   \n",
       "\n",
       "      Norovirus  Total_Days  \n",
       "12915     False    255 days  "
      ]
     },
     "execution_count": 102,
     "metadata": {},
     "output_type": "execute_result"
    }
   ],
   "source": [
    "at[at['Hike_Type'].str.contains('Yo Yo')]"
   ]
  },
  {
   "cell_type": "code",
   "execution_count": null,
   "metadata": {
    "collapsed": true
   },
   "outputs": [],
   "source": [
    "#plt.figure(figsize = (10,10))\n",
    "#null.plot(kind = 'bar')"
   ]
  },
  {
   "cell_type": "code",
   "execution_count": 109,
   "metadata": {
    "collapsed": true
   },
   "outputs": [],
   "source": [
    "# Exploratory analysis"
   ]
  },
  {
   "cell_type": "code",
   "execution_count": 111,
   "metadata": {
    "collapsed": false
   },
   "outputs": [],
   "source": [
    "# Null values by column \n",
    "#plt.figure(figsize = (10,10))\n",
    "#z = at.isnull().sum()\n",
    "#z.plot(kind = 'bar')"
   ]
  }
 ],
 "metadata": {
  "anaconda-cloud": {},
  "kernelspec": {
   "display_name": "Python [default]",
   "language": "python",
   "name": "python3"
  },
  "language_info": {
   "codemirror_mode": {
    "name": "ipython",
    "version": 3
   },
   "file_extension": ".py",
   "mimetype": "text/x-python",
   "name": "python",
   "nbconvert_exporter": "python",
   "pygments_lexer": "ipython3",
   "version": "3.5.2"
  }
 },
 "nbformat": 4,
 "nbformat_minor": 1
}
