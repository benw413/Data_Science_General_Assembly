{
 "cells": [
  {
   "cell_type": "code",
   "execution_count": null,
   "metadata": {
    "collapsed": true
   },
   "outputs": [],
   "source": [
    "def clean(df):\n",
    "    df.drop(df.index[[17264,17236]], inplace = True)\n",
    "    df['Sex'] = df['Sex'].map({'M':0,'F':1})\n",
    "    df['Finish'] = pd.to_datetime(df['Finish'])\n",
    "    df['Start'] = pd.to_datetime(df['Start'])\n",
    "    df.drop(labels = df[['Disease Other','School','DogWeightLbs','MinorityComments','School',\n",
    "                         'DogBreed','Disability','Under2KAmount']], axis = 1, inplace = True)\n",
    "    df.rename(columns = {'AgeYrFin': 'Age', 'Days Elapsed':'Days_On_Trail','Race or Heritage': 'Race',\n",
    "                        'StAbbrev':'State', 'Hiking Disability ': 'Hiking_Disability', \n",
    "                         'Hike Type': 'Hike_Type', 'Yr Comp':'completion_yr', 'Hiking Disability':'Hiking_Disability'},inplace = True)\n",
    "    df.dropna(subset= ['Start','Sex','Race','Country','Days_On_Trail','State','Hike_Type'],inplace = True)\n",
    "    df['completion_yr'].fillna(2016,inplace = True)\n",
    "    df['completion_yr'] = df['completion_yr'].astype(int)\n",
    "    df['Days_On_Trail'] = df['Days_On_Trail'].astype(int)\n",
    "    df['Age'] = df['Age'].fillna(df['Age'].mean())\n",
    "    df['Total_Days'] = df['Finish'] - df['Start']\n",
    "clean(at)\n",
    "\n",
    "\n",
    "def clean_2(df):\n",
    "    df.drop(labels = ['Days_On_Trail'], axis =1,inplace =True)\n",
    "    df['Age'].sort_values()\n",
    "\n",
    "clean_2(at)\n",
    "\n"
   ]
  }
 ],
 "metadata": {
  "kernelspec": {
   "display_name": "Python [default]",
   "language": "python",
   "name": "python3"
  },
  "language_info": {
   "codemirror_mode": {
    "name": "ipython",
    "version": 3
   },
   "file_extension": ".py",
   "mimetype": "text/x-python",
   "name": "python",
   "nbconvert_exporter": "python",
   "pygments_lexer": "ipython3",
   "version": "3.5.2"
  }
 },
 "nbformat": 4,
 "nbformat_minor": 1
}
