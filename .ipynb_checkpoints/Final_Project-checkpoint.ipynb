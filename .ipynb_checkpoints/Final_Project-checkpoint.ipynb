{
 "cells": [
  {
   "cell_type": "markdown",
   "metadata": {},
   "source": [
    "## This is the Jupyter Notebook for the final project of my Data Science Immesive at General Assembly Austin Tx\n",
    "My data was obtained through the Appalachian Trail Conservancy. I called and asked for all availible data on Thru hikers. Talk about form. "
   ]
  },
  {
   "cell_type": "code",
   "execution_count": 11,
   "metadata": {
    "collapsed": true
   },
   "outputs": [],
   "source": [
    "import pandas as pd\n",
    "import matplotlib.pyplot as plt\n",
    "%matplotlib inline\n",
    "import seaborn as sns"
   ]
  },
  {
   "cell_type": "code",
   "execution_count": 2,
   "metadata": {
    "collapsed": true
   },
   "outputs": [],
   "source": [
    "at = pd.read_excel('BenHikersInfo.xlsx')"
   ]
  },
  {
   "cell_type": "code",
   "execution_count": 3,
   "metadata": {
    "collapsed": false
   },
   "outputs": [
    {
     "data": {
      "text/plain": [
       "(17835, 28)"
      ]
     },
     "execution_count": 3,
     "metadata": {},
     "output_type": "execute_result"
    }
   ],
   "source": [
    "at.shape"
   ]
  },
  {
   "cell_type": "code",
   "execution_count": 4,
   "metadata": {
    "collapsed": false
   },
   "outputs": [
    {
     "data": {
      "text/plain": [
       "School               17816\n",
       "MinorityComments     17757\n",
       "Disease Other        17658\n",
       "DogBreed             17644\n",
       "Disability           17496\n",
       "Hiking Disability     8853\n",
       "AgeYrFin              3514\n",
       "Hike Type              888\n",
       "Days Elapsed           697\n",
       "Start                  692\n",
       "StAbbrev               585\n",
       "DogWeightLbs           115\n",
       "Under2KAmount          109\n",
       "Country                 83\n",
       "Sex                     64\n",
       "Race or Heritage        15\n",
       "Yr Comp                  1\n",
       "HikedWDog                0\n",
       "WinterHike               0\n",
       "Under2KSpent             0\n",
       "SchoolCredit             0\n",
       "Minority                 0\n",
       "Vegetarian               0\n",
       "DehydrateOwnFood         0\n",
       "Giardia                  0\n",
       "Lyme                     0\n",
       "Norovirus                0\n",
       "Finish                   0\n",
       "dtype: int64"
      ]
     },
     "execution_count": 4,
     "metadata": {},
     "output_type": "execute_result"
    }
   ],
   "source": [
    "null = at.isnull().sum().nlargest(28)\n",
    "null"
   ]
  },
  {
   "cell_type": "code",
   "execution_count": 5,
   "metadata": {
    "collapsed": false
   },
   "outputs": [
    {
     "data": {
      "text/html": [
       "<div>\n",
       "<table border=\"1\" class=\"dataframe\">\n",
       "  <thead>\n",
       "    <tr style=\"text-align: right;\">\n",
       "      <th></th>\n",
       "      <th>Finish</th>\n",
       "      <th>AgeYrFin</th>\n",
       "      <th>Race or Heritage</th>\n",
       "      <th>StAbbrev</th>\n",
       "      <th>Sex</th>\n",
       "      <th>Country</th>\n",
       "      <th>Hike Type</th>\n",
       "      <th>Start</th>\n",
       "      <th>Days Elapsed</th>\n",
       "      <th>Yr Comp</th>\n",
       "      <th>...</th>\n",
       "      <th>SchoolCredit</th>\n",
       "      <th>School</th>\n",
       "      <th>Minority</th>\n",
       "      <th>MinorityComments</th>\n",
       "      <th>Vegetarian</th>\n",
       "      <th>DehydrateOwnFood</th>\n",
       "      <th>Giardia</th>\n",
       "      <th>Lyme</th>\n",
       "      <th>Norovirus</th>\n",
       "      <th>Disease Other</th>\n",
       "    </tr>\n",
       "  </thead>\n",
       "  <tbody>\n",
       "    <tr>\n",
       "      <th>0</th>\n",
       "      <td>9 /28/2016</td>\n",
       "      <td>27.0</td>\n",
       "      <td>Caucasian or White</td>\n",
       "      <td>NH</td>\n",
       "      <td>F</td>\n",
       "      <td>USA</td>\n",
       "      <td>Section</td>\n",
       "      <td>3/18/2015</td>\n",
       "      <td>561.0</td>\n",
       "      <td>NaN</td>\n",
       "      <td>...</td>\n",
       "      <td>False</td>\n",
       "      <td>NaN</td>\n",
       "      <td>False</td>\n",
       "      <td>NaN</td>\n",
       "      <td>False</td>\n",
       "      <td>False</td>\n",
       "      <td>False</td>\n",
       "      <td>False</td>\n",
       "      <td>False</td>\n",
       "      <td>NaN</td>\n",
       "    </tr>\n",
       "    <tr>\n",
       "      <th>1</th>\n",
       "      <td>12/31/1936</td>\n",
       "      <td>NaN</td>\n",
       "      <td>Prefer not to say</td>\n",
       "      <td>NaN</td>\n",
       "      <td>M</td>\n",
       "      <td>NaN</td>\n",
       "      <td>Section</td>\n",
       "      <td>NaN</td>\n",
       "      <td>NaN</td>\n",
       "      <td>1936.0</td>\n",
       "      <td>...</td>\n",
       "      <td>False</td>\n",
       "      <td>NaN</td>\n",
       "      <td>False</td>\n",
       "      <td>NaN</td>\n",
       "      <td>False</td>\n",
       "      <td>False</td>\n",
       "      <td>False</td>\n",
       "      <td>False</td>\n",
       "      <td>False</td>\n",
       "      <td>NaN</td>\n",
       "    </tr>\n",
       "    <tr>\n",
       "      <th>2</th>\n",
       "      <td>12/31/1939</td>\n",
       "      <td>NaN</td>\n",
       "      <td>Prefer not to say</td>\n",
       "      <td>NaN</td>\n",
       "      <td>M</td>\n",
       "      <td>NaN</td>\n",
       "      <td>Section</td>\n",
       "      <td>NaN</td>\n",
       "      <td>NaN</td>\n",
       "      <td>1939.0</td>\n",
       "      <td>...</td>\n",
       "      <td>False</td>\n",
       "      <td>NaN</td>\n",
       "      <td>False</td>\n",
       "      <td>NaN</td>\n",
       "      <td>False</td>\n",
       "      <td>False</td>\n",
       "      <td>False</td>\n",
       "      <td>False</td>\n",
       "      <td>False</td>\n",
       "      <td>NaN</td>\n",
       "    </tr>\n",
       "    <tr>\n",
       "      <th>3</th>\n",
       "      <td>12/31/1939</td>\n",
       "      <td>NaN</td>\n",
       "      <td>Prefer not to say</td>\n",
       "      <td>IL</td>\n",
       "      <td>M</td>\n",
       "      <td>USA</td>\n",
       "      <td>Section</td>\n",
       "      <td>NaN</td>\n",
       "      <td>NaN</td>\n",
       "      <td>1939.0</td>\n",
       "      <td>...</td>\n",
       "      <td>False</td>\n",
       "      <td>NaN</td>\n",
       "      <td>False</td>\n",
       "      <td>NaN</td>\n",
       "      <td>False</td>\n",
       "      <td>False</td>\n",
       "      <td>False</td>\n",
       "      <td>False</td>\n",
       "      <td>False</td>\n",
       "      <td>NaN</td>\n",
       "    </tr>\n",
       "    <tr>\n",
       "      <th>4</th>\n",
       "      <td>12/31/1939</td>\n",
       "      <td>NaN</td>\n",
       "      <td>Prefer not to say</td>\n",
       "      <td>IL</td>\n",
       "      <td>F</td>\n",
       "      <td>USA</td>\n",
       "      <td>Section</td>\n",
       "      <td>NaN</td>\n",
       "      <td>NaN</td>\n",
       "      <td>1939.0</td>\n",
       "      <td>...</td>\n",
       "      <td>False</td>\n",
       "      <td>NaN</td>\n",
       "      <td>False</td>\n",
       "      <td>NaN</td>\n",
       "      <td>False</td>\n",
       "      <td>False</td>\n",
       "      <td>False</td>\n",
       "      <td>False</td>\n",
       "      <td>False</td>\n",
       "      <td>NaN</td>\n",
       "    </tr>\n",
       "  </tbody>\n",
       "</table>\n",
       "<p>5 rows × 28 columns</p>\n",
       "</div>"
      ],
      "text/plain": [
       "       Finish  AgeYrFin    Race or Heritage StAbbrev Sex Country Hike Type  \\\n",
       "0  9 /28/2016      27.0  Caucasian or White       NH   F     USA   Section   \n",
       "1  12/31/1936       NaN   Prefer not to say      NaN   M     NaN   Section   \n",
       "2  12/31/1939       NaN   Prefer not to say      NaN   M     NaN   Section   \n",
       "3  12/31/1939       NaN   Prefer not to say       IL   M     USA   Section   \n",
       "4  12/31/1939       NaN   Prefer not to say       IL   F     USA   Section   \n",
       "\n",
       "       Start  Days Elapsed  Yr Comp      ...      SchoolCredit School  \\\n",
       "0  3/18/2015         561.0      NaN      ...             False    NaN   \n",
       "1        NaN           NaN   1936.0      ...             False    NaN   \n",
       "2        NaN           NaN   1939.0      ...             False    NaN   \n",
       "3        NaN           NaN   1939.0      ...             False    NaN   \n",
       "4        NaN           NaN   1939.0      ...             False    NaN   \n",
       "\n",
       "  Minority MinorityComments  Vegetarian DehydrateOwnFood Giardia   Lyme  \\\n",
       "0    False              NaN       False            False   False  False   \n",
       "1    False              NaN       False            False   False  False   \n",
       "2    False              NaN       False            False   False  False   \n",
       "3    False              NaN       False            False   False  False   \n",
       "4    False              NaN       False            False   False  False   \n",
       "\n",
       "  Norovirus Disease Other  \n",
       "0     False           NaN  \n",
       "1     False           NaN  \n",
       "2     False           NaN  \n",
       "3     False           NaN  \n",
       "4     False           NaN  \n",
       "\n",
       "[5 rows x 28 columns]"
      ]
     },
     "execution_count": 5,
     "metadata": {},
     "output_type": "execute_result"
    }
   ],
   "source": [
    "at.head()"
   ]
  },
  {
   "cell_type": "code",
   "execution_count": 6,
   "metadata": {
    "collapsed": false
   },
   "outputs": [
    {
     "data": {
      "text/plain": [
       "<matplotlib.axes._subplots.AxesSubplot at 0x10f85abe0>"
      ]
     },
     "execution_count": 6,
     "metadata": {},
     "output_type": "execute_result"
    },
    {
     "data": {
      "image/png": "[encoded data removed]",
      "text/plain": [
       "<matplotlib.figure.Figure at 0x10f85acc0>"
      ]
     },
     "metadata": {},
     "output_type": "display_data"
    }
   ],
   "source": [
    "plt.figure(figsize = (10,10))\n",
    "null.plot(kind = 'bar')"
   ]
  },
  {
   "cell_type": "code",
   "execution_count": 7,
   "metadata": {
    "collapsed": false
   },
   "outputs": [
    {
     "data": {
      "text/plain": [
       "Index(['Finish', 'AgeYrFin', 'Race or Heritage', 'StAbbrev', 'Sex', 'Country',\n",
       "       'Hike Type', 'Start', 'Days Elapsed', 'Yr Comp', 'Hiking Disability',\n",
       "       'Disability', 'HikedWDog', 'DogBreed', 'DogWeightLbs', 'WinterHike',\n",
       "       'Under2KSpent', 'Under2KAmount', 'SchoolCredit', 'School', 'Minority',\n",
       "       'MinorityComments', 'Vegetarian', 'DehydrateOwnFood', 'Giardia', 'Lyme',\n",
       "       'Norovirus', 'Disease Other'],\n",
       "      dtype='object')"
      ]
     },
     "execution_count": 7,
     "metadata": {},
     "output_type": "execute_result"
    }
   ],
   "source": [
    "at.columns"
   ]
  },
  {
   "cell_type": "markdown",
   "metadata": {},
   "source": [
    "# Notes on How I have cleaned my DataSet\n",
    "\n",
    "1.) Convert the Finish and Start Date to date_time objects\n",
    "\n",
    "2.) Convert the Start and Finish Dates to Pandas Datetime Objects\n",
    "\n",
    "3.) Drop columns with null values that exceed 90 percent of the column \n",
    "\n",
    "4.) Drop Dog Weight Column 16238 of possible 17835 values were 0. So nearly the same as null \n",
    "\n",
    "5.) Drop Under2kAmount column 16125 of 17835 values were 0. It was just not self reported very well\n",
    "\n",
    "4.) Rename Columns with spaces in them or w/ confusing names. \n",
    "\n",
    "5.) Replace Null Values in yr completed with 2016 since we do know his start date* \n",
    "\n",
    "6.)\n",
    "\n",
    "7.)\n",
    "\n",
    "8.)\n",
    "\n",
    "9.)\n",
    "\n",
    "10.)\n",
    "\n",
    "11.)\n",
    "\n",
    "12.)\n",
    "\n",
    "13.)\n"
   ]
  },
  {
   "cell_type": "code",
   "execution_count": 8,
   "metadata": {
    "collapsed": false
   },
   "outputs": [],
   "source": [
    "def clean(df):\n",
    "    df['Finish'] = pd.to_datetime(df['Finish'])\n",
    "    df['Start'] = pd.to_datetime(df['Start'])\n",
    "    df.drop(labels = df[['Disease Other','School','DogWeightLbs','MinorityComments','School',\n",
    "                         'DogBreed','Disability','Under2KAmount']], axis = 1, inplace = True)\n",
    "    df.rename(columns = {'AgeYrFin': 'Age', 'Days Elapsed':'Days_On_Trail','Race or Heritage': 'Race',\n",
    "                        'StAbbrev':'State', 'Hiking Disability ': 'Hiking_Disability', 'Hike Type': 'Hike_Type', 'Yr Comp':'completion_yr'},inplace = True)\n",
    "    df.dropna(subset= ['Start','Sex','Race','Country','Days_On_Trail','State'],inplace = True)\n",
    "    df['completion_yr'].fillna(2016,inplace = True)\n",
    "    df['completion_yr'] = df['completion_yr'].astype(int)\n",
    "    df['Days_On_Trail'] = df['Days_On_Trail'].astype(int)\n",
    "    \n",
    "clean(at)"
   ]
  },
  {
   "cell_type": "code",
   "execution_count": 9,
   "metadata": {
    "collapsed": false
   },
   "outputs": [
    {
     "data": {
      "text/html": [
       "<div>\n",
       "<table border=\"1\" class=\"dataframe\">\n",
       "  <thead>\n",
       "    <tr style=\"text-align: right;\">\n",
       "      <th></th>\n",
       "      <th>Finish</th>\n",
       "      <th>Age</th>\n",
       "      <th>Race</th>\n",
       "      <th>State</th>\n",
       "      <th>Sex</th>\n",
       "      <th>Country</th>\n",
       "      <th>Hike_Type</th>\n",
       "      <th>Start</th>\n",
       "      <th>Days_On_Trail</th>\n",
       "      <th>completion_yr</th>\n",
       "      <th>...</th>\n",
       "      <th>HikedWDog</th>\n",
       "      <th>WinterHike</th>\n",
       "      <th>Under2KSpent</th>\n",
       "      <th>SchoolCredit</th>\n",
       "      <th>Minority</th>\n",
       "      <th>Vegetarian</th>\n",
       "      <th>DehydrateOwnFood</th>\n",
       "      <th>Giardia</th>\n",
       "      <th>Lyme</th>\n",
       "      <th>Norovirus</th>\n",
       "    </tr>\n",
       "  </thead>\n",
       "  <tbody>\n",
       "    <tr>\n",
       "      <th>0</th>\n",
       "      <td>2016-09-28</td>\n",
       "      <td>27.0</td>\n",
       "      <td>Caucasian or White</td>\n",
       "      <td>NH</td>\n",
       "      <td>F</td>\n",
       "      <td>USA</td>\n",
       "      <td>Section</td>\n",
       "      <td>2015-03-18</td>\n",
       "      <td>561</td>\n",
       "      <td>2016</td>\n",
       "      <td>...</td>\n",
       "      <td>False</td>\n",
       "      <td>False</td>\n",
       "      <td>False</td>\n",
       "      <td>False</td>\n",
       "      <td>False</td>\n",
       "      <td>False</td>\n",
       "      <td>False</td>\n",
       "      <td>False</td>\n",
       "      <td>False</td>\n",
       "      <td>False</td>\n",
       "    </tr>\n",
       "    <tr>\n",
       "      <th>8</th>\n",
       "      <td>1948-12-31</td>\n",
       "      <td>NaN</td>\n",
       "      <td>Prefer not to say</td>\n",
       "      <td>PA</td>\n",
       "      <td>M</td>\n",
       "      <td>USA</td>\n",
       "      <td>NOBO</td>\n",
       "      <td>1948-01-01</td>\n",
       "      <td>366</td>\n",
       "      <td>1948</td>\n",
       "      <td>...</td>\n",
       "      <td>False</td>\n",
       "      <td>False</td>\n",
       "      <td>False</td>\n",
       "      <td>False</td>\n",
       "      <td>False</td>\n",
       "      <td>False</td>\n",
       "      <td>False</td>\n",
       "      <td>False</td>\n",
       "      <td>False</td>\n",
       "      <td>False</td>\n",
       "    </tr>\n",
       "    <tr>\n",
       "      <th>9</th>\n",
       "      <td>1951-10-10</td>\n",
       "      <td>28.0</td>\n",
       "      <td>Prefer not to say</td>\n",
       "      <td>CT</td>\n",
       "      <td>M</td>\n",
       "      <td>USA</td>\n",
       "      <td>SOBO</td>\n",
       "      <td>1951-05-30</td>\n",
       "      <td>134</td>\n",
       "      <td>1951</td>\n",
       "      <td>...</td>\n",
       "      <td>False</td>\n",
       "      <td>False</td>\n",
       "      <td>False</td>\n",
       "      <td>False</td>\n",
       "      <td>False</td>\n",
       "      <td>False</td>\n",
       "      <td>False</td>\n",
       "      <td>False</td>\n",
       "      <td>False</td>\n",
       "      <td>False</td>\n",
       "    </tr>\n",
       "    <tr>\n",
       "      <th>10</th>\n",
       "      <td>1951-09-30</td>\n",
       "      <td>NaN</td>\n",
       "      <td>Prefer not to say</td>\n",
       "      <td>GA</td>\n",
       "      <td>M</td>\n",
       "      <td>USA</td>\n",
       "      <td>NOBO</td>\n",
       "      <td>1951-05-31</td>\n",
       "      <td>123</td>\n",
       "      <td>1951</td>\n",
       "      <td>...</td>\n",
       "      <td>False</td>\n",
       "      <td>False</td>\n",
       "      <td>False</td>\n",
       "      <td>False</td>\n",
       "      <td>False</td>\n",
       "      <td>False</td>\n",
       "      <td>False</td>\n",
       "      <td>False</td>\n",
       "      <td>False</td>\n",
       "      <td>False</td>\n",
       "    </tr>\n",
       "    <tr>\n",
       "      <th>12</th>\n",
       "      <td>1951-12-31</td>\n",
       "      <td>NaN</td>\n",
       "      <td>Prefer not to say</td>\n",
       "      <td>MI</td>\n",
       "      <td>M</td>\n",
       "      <td>USA</td>\n",
       "      <td>NaN</td>\n",
       "      <td>1951-01-01</td>\n",
       "      <td>365</td>\n",
       "      <td>1951</td>\n",
       "      <td>...</td>\n",
       "      <td>False</td>\n",
       "      <td>False</td>\n",
       "      <td>False</td>\n",
       "      <td>False</td>\n",
       "      <td>False</td>\n",
       "      <td>False</td>\n",
       "      <td>False</td>\n",
       "      <td>False</td>\n",
       "      <td>False</td>\n",
       "      <td>False</td>\n",
       "    </tr>\n",
       "  </tbody>\n",
       "</table>\n",
       "<p>5 rows × 21 columns</p>\n",
       "</div>"
      ],
      "text/plain": [
       "       Finish   Age                Race State Sex Country Hike_Type  \\\n",
       "0  2016-09-28  27.0  Caucasian or White    NH   F     USA   Section   \n",
       "8  1948-12-31   NaN   Prefer not to say    PA   M     USA      NOBO   \n",
       "9  1951-10-10  28.0   Prefer not to say    CT   M     USA      SOBO   \n",
       "10 1951-09-30   NaN   Prefer not to say    GA   M     USA      NOBO   \n",
       "12 1951-12-31   NaN   Prefer not to say    MI   M     USA       NaN   \n",
       "\n",
       "        Start  Days_On_Trail  completion_yr    ...    HikedWDog WinterHike  \\\n",
       "0  2015-03-18            561           2016    ...        False      False   \n",
       "8  1948-01-01            366           1948    ...        False      False   \n",
       "9  1951-05-30            134           1951    ...        False      False   \n",
       "10 1951-05-31            123           1951    ...        False      False   \n",
       "12 1951-01-01            365           1951    ...        False      False   \n",
       "\n",
       "   Under2KSpent SchoolCredit Minority Vegetarian DehydrateOwnFood Giardia  \\\n",
       "0         False        False    False      False            False   False   \n",
       "8         False        False    False      False            False   False   \n",
       "9         False        False    False      False            False   False   \n",
       "10        False        False    False      False            False   False   \n",
       "12        False        False    False      False            False   False   \n",
       "\n",
       "     Lyme Norovirus  \n",
       "0   False     False  \n",
       "8   False     False  \n",
       "9   False     False  \n",
       "10  False     False  \n",
       "12  False     False  \n",
       "\n",
       "[5 rows x 21 columns]"
      ]
     },
     "execution_count": 9,
     "metadata": {},
     "output_type": "execute_result"
    }
   ],
   "source": [
    "at.head()"
   ]
  },
  {
   "cell_type": "code",
   "execution_count": 214,
   "metadata": {
    "collapsed": false
   },
   "outputs": [
    {
     "data": {
      "text/plain": [
       "Hiking Disability    8416\n",
       "Age                  2744\n",
       "Hike_Type             376\n",
       "WinterHike              0\n",
       "Lyme                    0\n",
       "Giardia                 0\n",
       "DehydrateOwnFood        0\n",
       "Vegetarian              0\n",
       "Minority                0\n",
       "SchoolCredit            0\n",
       "Under2KSpent            0\n",
       "Finish                  0\n",
       "HikedWDog               0\n",
       "completion_yr           0\n",
       "Days_On_Trail           0\n",
       "Start                   0\n",
       "Country                 0\n",
       "Sex                     0\n",
       "State                   0\n",
       "Race                    0\n",
       "Norovirus               0\n",
       "dtype: int64"
      ]
     },
     "execution_count": 214,
     "metadata": {},
     "output_type": "execute_result"
    }
   ],
   "source": [
    "at.isnull().sum().nlargest(25)"
   ]
  },
  {
   "cell_type": "code",
   "execution_count": 204,
   "metadata": {
    "collapsed": false
   },
   "outputs": [
    {
     "data": {
      "text/plain": [
       "0         561\n",
       "8         366\n",
       "9         134\n",
       "10        123\n",
       "12        365\n",
       "18        162\n",
       "20        118\n",
       "22        365\n",
       "23        366\n",
       "32        366\n",
       "33        366\n",
       "35        366\n",
       "36        161\n",
       "38         99\n",
       "41        365\n",
       "43        179\n",
       "44        210\n",
       "45        366\n",
       "48        366\n",
       "50        159\n",
       "52        365\n",
       "55        365\n",
       "57        159\n",
       "58        365\n",
       "59        365\n",
       "60       1548\n",
       "61        365\n",
       "63        365\n",
       "66        365\n",
       "68        365\n",
       "         ... \n",
       "17802       0\n",
       "17803       0\n",
       "17804       0\n",
       "17805       0\n",
       "17806       0\n",
       "17807       0\n",
       "17808       0\n",
       "17810       0\n",
       "17811       0\n",
       "17812       0\n",
       "17813       0\n",
       "17814       0\n",
       "17815       0\n",
       "17816       0\n",
       "17818       0\n",
       "17819       0\n",
       "17820       0\n",
       "17821       0\n",
       "17822       0\n",
       "17823       0\n",
       "17824       0\n",
       "17826       0\n",
       "17827       0\n",
       "17828       0\n",
       "17829       0\n",
       "17830       0\n",
       "17831       0\n",
       "17832       0\n",
       "17833       0\n",
       "17834       0\n",
       "Name: Days_On_Trail, dtype: int64"
      ]
     },
     "execution_count": 204,
     "metadata": {},
     "output_type": "execute_result"
    }
   ],
   "source": [
    "at['Days_On_Trail'].astype(int)"
   ]
  },
  {
   "cell_type": "code",
   "execution_count": 216,
   "metadata": {
    "collapsed": false
   },
   "outputs": [
    {
     "data": {
      "text/html": [
       "<div>\n",
       "<table border=\"1\" class=\"dataframe\">\n",
       "  <thead>\n",
       "    <tr style=\"text-align: right;\">\n",
       "      <th></th>\n",
       "      <th>Age</th>\n",
       "      <th>Days_On_Trail</th>\n",
       "      <th>completion_yr</th>\n",
       "    </tr>\n",
       "  </thead>\n",
       "  <tbody>\n",
       "    <tr>\n",
       "      <th>count</th>\n",
       "      <td>13780.000000</td>\n",
       "      <td>16524.000000</td>\n",
       "      <td>16524.000000</td>\n",
       "    </tr>\n",
       "    <tr>\n",
       "      <th>mean</th>\n",
       "      <td>36.248839</td>\n",
       "      <td>786.409707</td>\n",
       "      <td>2003.692205</td>\n",
       "    </tr>\n",
       "    <tr>\n",
       "      <th>std</th>\n",
       "      <td>15.395645</td>\n",
       "      <td>1927.549910</td>\n",
       "      <td>10.074643</td>\n",
       "    </tr>\n",
       "    <tr>\n",
       "      <th>min</th>\n",
       "      <td>-30.000000</td>\n",
       "      <td>-14477.000000</td>\n",
       "      <td>1948.000000</td>\n",
       "    </tr>\n",
       "    <tr>\n",
       "      <th>25%</th>\n",
       "      <td>24.000000</td>\n",
       "      <td>159.000000</td>\n",
       "      <td>1998.000000</td>\n",
       "    </tr>\n",
       "    <tr>\n",
       "      <th>50%</th>\n",
       "      <td>29.000000</td>\n",
       "      <td>185.000000</td>\n",
       "      <td>2005.000000</td>\n",
       "    </tr>\n",
       "    <tr>\n",
       "      <th>75%</th>\n",
       "      <td>50.000000</td>\n",
       "      <td>365.000000</td>\n",
       "      <td>2012.000000</td>\n",
       "    </tr>\n",
       "    <tr>\n",
       "      <th>max</th>\n",
       "      <td>88.000000</td>\n",
       "      <td>23519.000000</td>\n",
       "      <td>2017.000000</td>\n",
       "    </tr>\n",
       "  </tbody>\n",
       "</table>\n",
       "</div>"
      ],
      "text/plain": [
       "                Age  Days_On_Trail  completion_yr\n",
       "count  13780.000000   16524.000000   16524.000000\n",
       "mean      36.248839     786.409707    2003.692205\n",
       "std       15.395645    1927.549910      10.074643\n",
       "min      -30.000000  -14477.000000    1948.000000\n",
       "25%       24.000000     159.000000    1998.000000\n",
       "50%       29.000000     185.000000    2005.000000\n",
       "75%       50.000000     365.000000    2012.000000\n",
       "max       88.000000   23519.000000    2017.000000"
      ]
     },
     "execution_count": 216,
     "metadata": {},
     "output_type": "execute_result"
    }
   ],
   "source": [
    "at.describe()"
   ]
  },
  {
   "cell_type": "code",
   "execution_count": 219,
   "metadata": {
    "collapsed": false
   },
   "outputs": [
    {
     "data": {
      "text/plain": [
       " 23.0    1103\n",
       " 24.0     963\n",
       " 25.0     839\n",
       " 22.0     692\n",
       " 26.0     688\n",
       " 27.0     586\n",
       " 28.0     507\n",
       " 29.0     443\n",
       " 30.0     396\n",
       " 21.0     376\n",
       " 20.0     293\n",
       " 31.0     292\n",
       " 32.0     273\n",
       " 19.0     262\n",
       " 33.0     232\n",
       " 60.0     212\n",
       " 56.0     211\n",
       " 50.0     211\n",
       " 57.0     202\n",
       " 59.0     200\n",
       " 54.0     196\n",
       " 55.0     196\n",
       " 53.0     188\n",
       " 52.0     185\n",
       " 34.0     176\n",
       " 61.0     174\n",
       " 35.0     169\n",
       " 62.0     168\n",
       " 58.0     168\n",
       " 51.0     158\n",
       "         ... \n",
       " 71.0      37\n",
       " 72.0      35\n",
       " 17.0      29\n",
       " 74.0      27\n",
       " 73.0      23\n",
       " 16.0      12\n",
       " 14.0      12\n",
       " 75.0      11\n",
       " 15.0      10\n",
       " 76.0       8\n",
       " 12.0       8\n",
       " 0.0        6\n",
       " 11.0       6\n",
       " 77.0       5\n",
       " 80.0       5\n",
       " 10.0       5\n",
       " 79.0       4\n",
       " 8.0        3\n",
       " 82.0       3\n",
       " 81.0       3\n",
       " 78.0       2\n",
       " 5.0        1\n",
       " 86.0       1\n",
       " 3.0        1\n",
       "-30.0       1\n",
       " 6.0        1\n",
       " 9.0        1\n",
       " 88.0       1\n",
       " 83.0       1\n",
       " 13.0       1\n",
       "Name: Age, dtype: int64"
      ]
     },
     "execution_count": 219,
     "metadata": {},
     "output_type": "execute_result"
    }
   ],
   "source": [
    "at['Age'].value_counts()"
   ]
  },
  {
   "cell_type": "code",
   "execution_count": null,
   "metadata": {
    "collapsed": true
   },
   "outputs": [],
   "source": []
  }
 ],
 "metadata": {
  "anaconda-cloud": {},
  "kernelspec": {
   "display_name": "Python [default]",
   "language": "python",
   "name": "python3"
  },
  "language_info": {
   "codemirror_mode": {
    "name": "ipython",
    "version": 3
   },
   "file_extension": ".py",
   "mimetype": "text/x-python",
   "name": "python",
   "nbconvert_exporter": "python",
   "pygments_lexer": "ipython3",
   "version": "3.5.2"
  }
 },
 "nbformat": 4,
 "nbformat_minor": 1
}
