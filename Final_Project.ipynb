{
 "cells": [
  {
   "cell_type": "markdown",
   "metadata": {},
   "source": [
    "## This is the Jupyter Notebook for the final project of my Data Science Immesive at General Assembly Austin Tx\n",
    "\n",
    "#### Temporary Hypothesis, which features of my dataset best predict time on trail. \n",
    "## What sort of things can I add to this dataset? Weather,etc..\n",
    "My data was obtained through the Appalachian Trail Conservancy. I called and asked for all availible data on Thru hikers. Talk about form. "
   ]
  },
  {
   "cell_type": "markdown",
   "metadata": {},
   "source": []
  },
  {
   "cell_type": "code",
   "execution_count": 131,
   "metadata": {
    "collapsed": true
   },
   "outputs": [],
   "source": [
    "import pandas as pd\n",
    "import matplotlib.pyplot as plt\n",
    "%matplotlib inline\n",
    "import seaborn as sns"
   ]
  },
  {
   "cell_type": "code",
   "execution_count": 132,
   "metadata": {
    "collapsed": true
   },
   "outputs": [],
   "source": [
    "at = pd.read_excel('BenHikersInfo.xlsx')"
   ]
  },
  {
   "cell_type": "code",
   "execution_count": 133,
   "metadata": {
    "collapsed": false
   },
   "outputs": [
    {
     "data": {
      "text/plain": [
       "(17835, 28)"
      ]
     },
     "execution_count": 133,
     "metadata": {},
     "output_type": "execute_result"
    }
   ],
   "source": [
    "at.shape"
   ]
  },
  {
   "cell_type": "code",
   "execution_count": 134,
   "metadata": {
    "collapsed": false
   },
   "outputs": [],
   "source": [
    "def clean(df):\n",
    "    df.drop(df.index[[17264,17236]], inplace = True)\n",
    "    df['Sex'] = df['Sex'].map({'M':0,'F':1})\n",
    "    df['Finish'] = pd.to_datetime(df['Finish'])\n",
    "    df['Start'] = pd.to_datetime(df['Start'])\n",
    "    df.drop(labels = df[['Disease Other','School','DogWeightLbs','MinorityComments','School',\n",
    "                         'DogBreed','Disability','Under2KAmount']], axis = 1, inplace = True)\n",
    "    df.rename(columns = {'AgeYrFin': 'Age', 'Days Elapsed':'Days_On_Trail','Race or Heritage': 'Race',\n",
    "                        'StAbbrev':'State', 'Hiking Disability ': 'Hiking_Disability', \n",
    "                         'Hike Type': 'Hike_Type', 'Yr Comp':'completion_yr', 'Hiking Disability':'Hiking_Disability'},inplace = True)\n",
    "    df.dropna(subset= ['Start','Sex','Race','Country','Days_On_Trail','State','Hike_Type'],inplace = True)\n",
    "    df['completion_yr'].fillna(2016,inplace = True)\n",
    "    df['completion_yr'] = df['completion_yr'].astype(int)\n",
    "    df['Days_On_Trail'] = df['Days_On_Trail'].astype(int)\n",
    "    df['Age'] = df['Age'].fillna(df['Age'].mean())\n",
    "    \n",
    "    \n",
    "clean(at)"
   ]
  },
  {
   "cell_type": "code",
   "execution_count": 135,
   "metadata": {
    "collapsed": false
   },
   "outputs": [
    {
     "data": {
      "text/html": [
       "<div>\n",
       "<table border=\"1\" class=\"dataframe\">\n",
       "  <thead>\n",
       "    <tr style=\"text-align: right;\">\n",
       "      <th></th>\n",
       "      <th>Finish</th>\n",
       "      <th>Age</th>\n",
       "      <th>Race</th>\n",
       "      <th>State</th>\n",
       "      <th>Sex</th>\n",
       "      <th>Country</th>\n",
       "      <th>Hike_Type</th>\n",
       "      <th>Start</th>\n",
       "      <th>Days_On_Trail</th>\n",
       "      <th>completion_yr</th>\n",
       "      <th>...</th>\n",
       "      <th>HikedWDog</th>\n",
       "      <th>WinterHike</th>\n",
       "      <th>Under2KSpent</th>\n",
       "      <th>SchoolCredit</th>\n",
       "      <th>Minority</th>\n",
       "      <th>Vegetarian</th>\n",
       "      <th>DehydrateOwnFood</th>\n",
       "      <th>Giardia</th>\n",
       "      <th>Lyme</th>\n",
       "      <th>Norovirus</th>\n",
       "    </tr>\n",
       "  </thead>\n",
       "  <tbody>\n",
       "    <tr>\n",
       "      <th>0</th>\n",
       "      <td>2016-09-28</td>\n",
       "      <td>27.000000</td>\n",
       "      <td>Caucasian or White</td>\n",
       "      <td>NH</td>\n",
       "      <td>1.0</td>\n",
       "      <td>USA</td>\n",
       "      <td>Section</td>\n",
       "      <td>2015-03-18</td>\n",
       "      <td>561</td>\n",
       "      <td>2016</td>\n",
       "      <td>...</td>\n",
       "      <td>False</td>\n",
       "      <td>False</td>\n",
       "      <td>False</td>\n",
       "      <td>False</td>\n",
       "      <td>False</td>\n",
       "      <td>False</td>\n",
       "      <td>False</td>\n",
       "      <td>False</td>\n",
       "      <td>False</td>\n",
       "      <td>False</td>\n",
       "    </tr>\n",
       "    <tr>\n",
       "      <th>8</th>\n",
       "      <td>1948-12-31</td>\n",
       "      <td>36.252632</td>\n",
       "      <td>Prefer not to say</td>\n",
       "      <td>PA</td>\n",
       "      <td>0.0</td>\n",
       "      <td>USA</td>\n",
       "      <td>NOBO</td>\n",
       "      <td>1948-01-01</td>\n",
       "      <td>366</td>\n",
       "      <td>1948</td>\n",
       "      <td>...</td>\n",
       "      <td>False</td>\n",
       "      <td>False</td>\n",
       "      <td>False</td>\n",
       "      <td>False</td>\n",
       "      <td>False</td>\n",
       "      <td>False</td>\n",
       "      <td>False</td>\n",
       "      <td>False</td>\n",
       "      <td>False</td>\n",
       "      <td>False</td>\n",
       "    </tr>\n",
       "    <tr>\n",
       "      <th>9</th>\n",
       "      <td>1951-10-10</td>\n",
       "      <td>28.000000</td>\n",
       "      <td>Prefer not to say</td>\n",
       "      <td>CT</td>\n",
       "      <td>0.0</td>\n",
       "      <td>USA</td>\n",
       "      <td>SOBO</td>\n",
       "      <td>1951-05-30</td>\n",
       "      <td>134</td>\n",
       "      <td>1951</td>\n",
       "      <td>...</td>\n",
       "      <td>False</td>\n",
       "      <td>False</td>\n",
       "      <td>False</td>\n",
       "      <td>False</td>\n",
       "      <td>False</td>\n",
       "      <td>False</td>\n",
       "      <td>False</td>\n",
       "      <td>False</td>\n",
       "      <td>False</td>\n",
       "      <td>False</td>\n",
       "    </tr>\n",
       "    <tr>\n",
       "      <th>10</th>\n",
       "      <td>1951-09-30</td>\n",
       "      <td>36.252632</td>\n",
       "      <td>Prefer not to say</td>\n",
       "      <td>GA</td>\n",
       "      <td>0.0</td>\n",
       "      <td>USA</td>\n",
       "      <td>NOBO</td>\n",
       "      <td>1951-05-31</td>\n",
       "      <td>123</td>\n",
       "      <td>1951</td>\n",
       "      <td>...</td>\n",
       "      <td>False</td>\n",
       "      <td>False</td>\n",
       "      <td>False</td>\n",
       "      <td>False</td>\n",
       "      <td>False</td>\n",
       "      <td>False</td>\n",
       "      <td>False</td>\n",
       "      <td>False</td>\n",
       "      <td>False</td>\n",
       "      <td>False</td>\n",
       "    </tr>\n",
       "    <tr>\n",
       "      <th>20</th>\n",
       "      <td>1959-09-17</td>\n",
       "      <td>20.000000</td>\n",
       "      <td>Caucasian or White</td>\n",
       "      <td>GA</td>\n",
       "      <td>0.0</td>\n",
       "      <td>USA</td>\n",
       "      <td>NOBO</td>\n",
       "      <td>1959-05-23</td>\n",
       "      <td>118</td>\n",
       "      <td>1959</td>\n",
       "      <td>...</td>\n",
       "      <td>False</td>\n",
       "      <td>False</td>\n",
       "      <td>False</td>\n",
       "      <td>False</td>\n",
       "      <td>False</td>\n",
       "      <td>False</td>\n",
       "      <td>False</td>\n",
       "      <td>False</td>\n",
       "      <td>False</td>\n",
       "      <td>False</td>\n",
       "    </tr>\n",
       "  </tbody>\n",
       "</table>\n",
       "<p>5 rows × 21 columns</p>\n",
       "</div>"
      ],
      "text/plain": [
       "       Finish        Age                Race State  Sex Country Hike_Type  \\\n",
       "0  2016-09-28  27.000000  Caucasian or White    NH  1.0     USA   Section   \n",
       "8  1948-12-31  36.252632   Prefer not to say    PA  0.0     USA      NOBO   \n",
       "9  1951-10-10  28.000000   Prefer not to say    CT  0.0     USA      SOBO   \n",
       "10 1951-09-30  36.252632   Prefer not to say    GA  0.0     USA      NOBO   \n",
       "20 1959-09-17  20.000000  Caucasian or White    GA  0.0     USA      NOBO   \n",
       "\n",
       "        Start  Days_On_Trail  completion_yr    ...    HikedWDog WinterHike  \\\n",
       "0  2015-03-18            561           2016    ...        False      False   \n",
       "8  1948-01-01            366           1948    ...        False      False   \n",
       "9  1951-05-30            134           1951    ...        False      False   \n",
       "10 1951-05-31            123           1951    ...        False      False   \n",
       "20 1959-05-23            118           1959    ...        False      False   \n",
       "\n",
       "   Under2KSpent SchoolCredit Minority Vegetarian DehydrateOwnFood Giardia  \\\n",
       "0         False        False    False      False            False   False   \n",
       "8         False        False    False      False            False   False   \n",
       "9         False        False    False      False            False   False   \n",
       "10        False        False    False      False            False   False   \n",
       "20        False        False    False      False            False   False   \n",
       "\n",
       "     Lyme Norovirus  \n",
       "0   False     False  \n",
       "8   False     False  \n",
       "9   False     False  \n",
       "10  False     False  \n",
       "20  False     False  \n",
       "\n",
       "[5 rows x 21 columns]"
      ]
     },
     "execution_count": 135,
     "metadata": {},
     "output_type": "execute_result"
    }
   ],
   "source": [
    "at.head()"
   ]
  },
  {
   "cell_type": "code",
   "execution_count": 138,
   "metadata": {
    "collapsed": false
   },
   "outputs": [
    {
     "data": {
      "text/plain": [
       "NOBO           10522\n",
       "Section         3099\n",
       "SOBO            1503\n",
       "Flip             914\n",
       "Alternative      102\n",
       "alternative        4\n",
       "Alterntive         1\n",
       "Yo Yo              1\n",
       "Name: Hike_Type, dtype: int64"
      ]
     },
     "execution_count": 138,
     "metadata": {},
     "output_type": "execute_result"
    }
   ],
   "source": [
    "at['Hike_Type'].value_counts()\n"
   ]
  },
  {
   "cell_type": "code",
   "execution_count": 75,
   "metadata": {
    "collapsed": false
   },
   "outputs": [
    {
     "data": {
      "text/plain": [
       "0    12381\n",
       "1     3765\n",
       "Name: Sex, dtype: int64"
      ]
     },
     "execution_count": 75,
     "metadata": {},
     "output_type": "execute_result"
    }
   ],
   "source": [
    "x.value_counts()"
   ]
  },
  {
   "cell_type": "code",
   "execution_count": 39,
   "metadata": {
    "collapsed": false
   },
   "outputs": [
    {
     "data": {
      "text/plain": [
       "False    16068\n",
       "True        78\n",
       "Name: Minority, dtype: int64"
      ]
     },
     "execution_count": 39,
     "metadata": {},
     "output_type": "execute_result"
    }
   ],
   "source": [
    "at['Minority'].value_counts()"
   ]
  },
  {
   "cell_type": "code",
   "execution_count": 35,
   "metadata": {
    "collapsed": false
   },
   "outputs": [
    {
     "data": {
      "text/plain": [
       "M    12381\n",
       "F     3765\n",
       "Name: Sex, dtype: int64"
      ]
     },
     "execution_count": 35,
     "metadata": {},
     "output_type": "execute_result"
    }
   ],
   "source": [
    "at['Sex'].value_counts()"
   ]
  },
  {
   "cell_type": "code",
   "execution_count": null,
   "metadata": {
    "collapsed": false
   },
   "outputs": [],
   "source": [
    "at[at['Sex'].str.contains('othe')]"
   ]
  },
  {
   "cell_type": "code",
   "execution_count": null,
   "metadata": {
    "collapsed": false
   },
   "outputs": [],
   "source": [
    "at[at['Sex'].str.contains('Oher')]"
   ]
  },
  {
   "cell_type": "code",
   "execution_count": null,
   "metadata": {
    "collapsed": false
   },
   "outputs": [],
   "source": [
    "df.drop([17264,17236])"
   ]
  },
  {
   "cell_type": "code",
   "execution_count": null,
   "metadata": {
    "collapsed": false
   },
   "outputs": [],
   "source": [
    "x['Sex'].str.contains('othe')"
   ]
  },
  {
   "cell_type": "code",
   "execution_count": null,
   "metadata": {
    "collapsed": false
   },
   "outputs": [],
   "source": [
    "at.shape"
   ]
  },
  {
   "cell_type": "code",
   "execution_count": null,
   "metadata": {
    "collapsed": true
   },
   "outputs": [],
   "source": [
    "at.isnull().sum().nlargest(30)"
   ]
  },
  {
   "cell_type": "code",
   "execution_count": null,
   "metadata": {
    "collapsed": true
   },
   "outputs": [],
   "source": []
  },
  {
   "cell_type": "code",
   "execution_count": null,
   "metadata": {
    "collapsed": true
   },
   "outputs": [],
   "source": []
  },
  {
   "cell_type": "code",
   "execution_count": null,
   "metadata": {
    "collapsed": true
   },
   "outputs": [],
   "source": [
    "#plt.figure(figsize = (10,10))\n",
    "#null.plot(kind = 'bar')"
   ]
  },
  {
   "cell_type": "code",
   "execution_count": null,
   "metadata": {
    "collapsed": true
   },
   "outputs": [],
   "source": []
  },
  {
   "cell_type": "markdown",
   "metadata": {},
   "source": [
    "# Notes on How I have cleaned my DataSet\n",
    "\n",
    "1.) \n",
    "\n",
    "2.) Convert the Start and Finish Dates to Pandas Datetime Objects\n",
    "\n",
    "3.) Drop columns with null values that exceed 90 percent of the column \n",
    "\n",
    "4.) Drop Dog Weight Column 16238 of possible 17835 values were 0. So nearly the same as null \n",
    "\n",
    "5.) Drop Under2kAmount column 16125 of 17835 values were 0. It was just not self reported very well\n",
    "\n",
    "4.) Rename Columns with spaces in them or w/ confusing names. \n",
    "\n",
    "5.) Replace Null Values in yr completed with 2016 since we do know his start date* \n",
    "\n",
    "6.) Drop oher and othe out of the sex column\n",
    "\n",
    "7.) Convert null values in age column to mean. I checked out a distplot for how this would change\n",
    "with using mean,median or mode, and not alot of change. \n",
    "\n",
    "8.)\n",
    "\n",
    "9.)\n",
    "\n",
    "10.)\n",
    "\n",
    "11.)\n",
    "\n",
    "12.)\n",
    "\n",
    "13.)"
   ]
  },
  {
   "cell_type": "code",
   "execution_count": null,
   "metadata": {
    "collapsed": true
   },
   "outputs": [],
   "source": []
  }
 ],
 "metadata": {
  "anaconda-cloud": {},
  "kernelspec": {
   "display_name": "Python [default]",
   "language": "python",
   "name": "python3"
  },
  "language_info": {
   "codemirror_mode": {
    "name": "ipython",
    "version": 3
   },
   "file_extension": ".py",
   "mimetype": "text/x-python",
   "name": "python",
   "nbconvert_exporter": "python",
   "pygments_lexer": "ipython3",
   "version": "3.5.2"
  }
 },
 "nbformat": 4,
 "nbformat_minor": 1
}
