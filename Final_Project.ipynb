{
 "cells": [
  {
   "cell_type": "markdown",
   "metadata": {},
   "source": [
    "## Data Science Immesive Final Project (General Assembly ATX Spring 2017)\n",
    "The data for my final project was obtained from the Appalachian Trail Conservancy (Harpers Ferry,WV).\n",
    "\n",
    "### Final Project Question: Can you predict how long it will take a thru hike to complete the Appalachian Trail based on the features of this dataset?\n",
    "\n"
   ]
  },
  {
   "cell_type": "markdown",
   "metadata": {},
   "source": [
    "Ideas to concatenate this dataset with weather"
   ]
  },
  {
   "cell_type": "markdown",
   "metadata": {},
   "source": [
    "# Data Cleaning Table of Content: \n",
    "I explore the data column by column to understand what sort of missing or inaccurate values are contained.\n",
    "\n",
    "def (clean_1): Columns that can/will be dropped\n",
    "- Rename columns to be more accurate.\n",
    "- Drop 'Days Elapsed' column as it does not accuratly calculate the number of days on trail. (I replace this column in clean_2 with 'Total_Days')\n",
    "- Drop 'Hiking_Disability' Column as it was not well reported\n",
    "- Drop Dog Weight Column (16238 of possible 17835 values were 0)\n",
    "- Drop columns with too many null values (columns that exceed 85 percent null values)\n",
    "- drop null values out of columns\n",
    "- **** come back to this Drop Under2kAmount column since (16125 out of 17835) values were 0 essentially the same as null values \n",
    "- Dropped 'Hiking \n",
    "\n",
    "\n",
    "def (clean_2/clean_3): Clean up the Age column \n",
    "- Fill null values in 'Age' column with median age.\n",
    "- All values below 4(There were some negative values) \n",
    "- The youngest person to thru-hike the AT is 5 so I assume all values above this are \n",
    "\n",
    " \n",
    "    \n",
    "def (clean_4): Datetime objects, \n",
    "-  Convert 'Start' and 'Finish' columns to Datetime objects\n",
    "-  Create a new column 'Total Days' that calculates total days on trail (at['Finish] - at['Start'])) \n",
    "-  There was as single null value in completion year, however, the finish date showed the hiker completed in 2016 so I changed the value to 2016 \n",
    "- I conveted the completion yr column from floats to ints \n",
    "- converted completion yr to a datetime object\n",
    "\n",
    "\n",
    "\n",
    "def (clean_5/clean_6): Clean 'Sex' column\n",
    "- In (clean_1) I dropped all null values in this column \n",
    "- Drop 'oher' and 'othe' out of the sex column\n",
    "- Convert the 'Sex' column to numerical format with the map function\n",
    "- Drop null values in the Sex column. There were only 2. \n",
    "- Converted M/F from float to int\n",
    "\n",
    "def (clean_7/clean_8): Clean 'Hike_Type' column (Drop section, alternative hikes, Yo Yo)\n",
    "- Drop values in the Hike column that are labeled alternative as I am unsure what these are and how to define them.\n",
    "- Since I am only interested in Thru Hikers and trying to predict time on trail based on people trying to hike in 6 months, and since all thru section hikers take varying amounts of time. \n",
    "- Difficult to estimate value for a Yo Yo so I dropped it, it was only a single column\n",
    "\n",
    "def (clean_9): Categorize the race column: Since the Data Set was very disorganized, Regular Expression\n",
    "was unable to take care of the categorization so I had to manually manipulate the categories\n",
    "- Caucasion variation = 1\n",
    "- African American Variation = 2\n",
    "- Asian Variation = 3\n",
    "- Hispanic Variation = 4\n",
    "- Native American Variation: =5\n",
    "- Mixed Race = 6\n",
    "- Race Not on Application =7\n",
    "- European/Not American (You cannot assume they are white because they are European) = 8\n",
    "- Other = 9\n",
    "    \n",
    "\n",
    "\n",
    "def (clean_10): Reset Index \n",
    "- The index needed to be reset since I had dropped many rows containing null values \n",
    "\n"
   ]
  },
  {
   "cell_type": "markdown",
   "metadata": {},
   "source": [
    "# To do \n",
    "\n",
    "3.) Make Boolean columns into dummy variables \n",
    "\n",
    "5.) Yo Yo split that into 1 Northbound and 1 southbound. \n",
    "\n",
    "6.) Race \n",
    "\n",
    "7.) State \n",
    "\n",
    "8.) There are negative total days (str.replace values)\n",
    "\n",
    "\n"
   ]
  },
  {
   "cell_type": "code",
   "execution_count": 3,
   "metadata": {
    "collapsed": true
   },
   "outputs": [],
   "source": [
    "import pandas as pd\n",
    "import matplotlib.pyplot as plt\n",
    "%matplotlib inline\n",
    "import seaborn as sns"
   ]
  },
  {
   "cell_type": "code",
   "execution_count": 4,
   "metadata": {
    "collapsed": true
   },
   "outputs": [],
   "source": [
    "at = pd.read_excel('BenHikersInfo.xlsx')"
   ]
  },
  {
   "cell_type": "markdown",
   "metadata": {},
   "source": [
    "## Cleaning Dataset"
   ]
  },
  {
   "cell_type": "code",
   "execution_count": 5,
   "metadata": {
    "collapsed": false
   },
   "outputs": [],
   "source": [
    "def clean_1(df):\n",
    "    df.drop(labels = df[['Disease Other','School','Hiking Disability','DogWeightLbs','Days Elapsed','MinorityComments','School',\n",
    "                         'DogBreed','Disability','Under2KAmount']], axis = 1, inplace = True)\n",
    "    df.rename(columns = {'AgeYrFin': 'Age','Race or Heritage': 'Race',\n",
    "                        'StAbbrev':'State', 'Hiking Disability ': 'Hiking_Disability', \n",
    "                         'Hike Type': 'Hike_Type', 'Yr Comp':'completion_yr',\n",
    "                         },inplace = True)\n",
    "    df.dropna(subset= ['Start','Sex','Race','Country','State','Hike_Type'],inplace = True)\n",
    "\n",
    "clean_1(at)  \n",
    "\n",
    "\n",
    "def clean_2(df):\n",
    "    df['Age'] = df['Age'].fillna(df['Age'].median())\n",
    "clean_2(at)\n",
    "\n",
    "\n",
    "def clean_3(x,median_age): \n",
    "    if x < 4:\n",
    "        return median_age\n",
    "    else:\n",
    "        return x \n",
    "at['Age'] = at['Age'].apply(lambda x: clean_3(x, at['Age'].median()))"
   ]
  },
  {
   "cell_type": "code",
   "execution_count": 6,
   "metadata": {
    "collapsed": false
   },
   "outputs": [],
   "source": [
    "def clean_4(df):\n",
    "    df['Finish'] = pd.to_datetime(df['Finish'])\n",
    "    df['Start'] = pd.to_datetime(df['Start'])\n",
    "    df['Total_Days'] = df['Finish'] - df['Start']\n",
    "    df['completion_yr'].fillna(2016,inplace = True)\n",
    "    df['completion_yr'] = df['completion_yr'].astype(int)\n",
    "clean_4(at)"
   ]
  },
  {
   "cell_type": "code",
   "execution_count": 7,
   "metadata": {
    "collapsed": false
   },
   "outputs": [],
   "source": [
    "def clean_5(df):\n",
    "    df['Sex'] = df['Sex'].map({'M':0,'F':1})\n",
    "    to_drop = ['othe','Oher']\n",
    "    x = df[df['Sex'].isin(to_drop)]\n",
    "    y = x.index\n",
    "    df.drop(y,inplace = True)\n",
    "clean_5(at)\n",
    "\n",
    "def clean_6(df):\n",
    "    df.dropna(subset = ['Sex'], inplace = True)\n",
    "    df['Sex'] = df['Sex'].astype(int)\n",
    "clean_6(at)"
   ]
  },
  {
   "cell_type": "code",
   "execution_count": 8,
   "metadata": {
    "collapsed": false
   },
   "outputs": [],
   "source": [
    "def clean_7(df):\n",
    "    to_drop = ['Alternative','alternative','Alterntive', 'Yo Yo']\n",
    "    x = df[df['Hike_Type'].isin(to_drop)]\n",
    "    y = x.index\n",
    "    df.drop(y,inplace = True)\n",
    "clean_7(at)\n",
    "\n",
    "def clean_8(df):\n",
    "    to_drop = ['Section']\n",
    "    x = df[df['Hike_Type'].isin(to_drop)]\n",
    "    y = x.index\n",
    "    df.drop(y,inplace = True)\n",
    "clean_8(at)"
   ]
  },
  {
   "cell_type": "code",
   "execution_count": 80,
   "metadata": {
    "collapsed": false
   },
   "outputs": [],
   "source": [
    "# Recall to maintain original column \n",
    "def clean_9(df):\n",
    "    \n",
    "    # Caucasion Variation: 0 Identify Race Over Nationality/Religion \n",
    "    df['Race'] = df['Race'].replace(['White','WASP','Hewbrew/White','English','Caucasian / Viking',\n",
    "                                    'Caucasian or White','Caucasian or White/Irish','Caucasian / Polish / Irish',\n",
    "                                    'Caucasian / South Africaan','Caucasian or White/Amish','Caucasian / Irish'\n",
    "                                     'Caucasian or White/Jewish','Caucasian / Irish',\n",
    "                                     'Anglo Saxon / Scottish / American','Caucasian or White (Jewish)',\n",
    "                                     'Caucasian / European','Caucasian or White/Pacific Islander','Jewish/White',\n",
    "                                     'Caucasian or White/Jewish','Caucasian / non-Hispanic',\n",
    "                                     'Caucasian / Czech / Russian / German / English)','Anglo Saxon','White/Irish',\n",
    "                                     'White/Jewish','Caucasian/Lithuanian-American','White/Scandinavian','Caucasian',\n",
    "                                     'White/Pennsylvania Dutch','Caucasian / Irish / Nordic','Caucasian / Jewish',\n",
    "                                     'European/American', 'Caucasian / Polish','Caucasian / German',\n",
    "                                     'Caucasian / 1/4 German', 'Caucasian/French Canandien','Caucasian / Slovak','Mennowhite',\n",
    "                                     'White/Lebanese', 'White - Irish, Scot and Spanish', 'Caucasian / Italian / Eastern European',\n",
    "                                     'Caucasian / Bahamian', 'Caucasian / Haitian'], 0)\n",
    "    # African American Variation: 1\n",
    "    df['Race'] = df['Race'].replace(['African American','African American/Biracial',], 1)\n",
    "    \n",
    "    # Asian Variation: 2\n",
    "    df['Race'] = df['Race'].replace(['Asian','Chinese','Asian / Chinese','Vietnamese','Thai',\n",
    "                                    'Taiwanese / American','Asian / American','Korean/American','Japanese',\n",
    "                                    'Indian','Asian American','Korean / American','Asian (Indian/American)',\n",
    "                                    'Middle Eastern','Korean','Japanese/American','Caucasian / Asian / Pacific Islander',\n",
    "                                     'American Indian', 'Vietnamese American','Persian','Japanese / American', 'Pakistani',\n",
    "                                     'Tamil/Sri Lankan', 'Pacific Islander', 'Caucasian / Asian'], 2)\n",
    "    # Hispanic/Latino: 3 I prioritize race over nationality \n",
    "    df['Race'] = df['Race'].replace(['Hispanic','Latino / Venzuelan','Japanese-American','Mexican / American',\n",
    "                                    'Mexican','Hispanic  / Colombian','Cuban','Latino','Puerto Rican',\n",
    "                                     'Hispanic or Latino','Mexican/American','Dominican','Hispanic / Mexican',\n",
    "                                    'Brazilian','Hispanic / Mexican / American','Hispanic/German', 'Hispanic / Italian',\n",
    "                                    ], 3)\n",
    "    # Native American Variation: 4\n",
    "    df['Race'] = df['Race'].replace(['American Indian / Cherokee','Cherokee & English','Native American',\n",
    "                                    'Native American (1/2 cherokee) / 1/2 Celtic','American Indian / Choctaw'],4)\n",
    "    \n",
    "    # Mixed Race: 5 (remember to look at this in relation to all the mixed white people/lation peop)\n",
    "    df['Race'] = df['Race'].replace(['Mixed','mixed','Caucasian / Black / West Indian','Hispanic/Black','Black/White',\n",
    "                                    'Mix','Black and White','white/hispanic','White/Hispanic',\n",
    "                                     'Mutt','Black / Caucasian','European Mutt','White/Asian',\n",
    "                                     'White & African American','Caucasian / Chinese', 'Caucasian / Philipino',\n",
    "                                     'Hispanic or Latino; Mixed','Japanese/White','White/Latina','Hispanic/White',\n",
    "                                     'Latino/White', 'Caucasian/Hispanic','Hispanic / Caucasian','Caucasian/Pacific Islander',\n",
    "                                     'Filipino/Caucasian', 'African American/American Indian','White/Native American',\n",
    "                                     'Middle Easter/White', 'European/Native American', 'Caucasian / Brazilian',\n",
    "                                     'Asian / Pacific Islander / Hispanic', 'Caucasian / Hispanic', 'Caucasion/Filipino',\n",
    "                                     'American Indian / Caucasian', 'Lebanese / American','Caucasian / Pacific Islander',\n",
    "                                     'Navajo / Portugese','WASP / Italian'], 5)\n",
    "    \n",
    "    # European: 6 (You cannot assume they are white because they are European)\n",
    "    df['Race'] = df['Race'].replace(['German','Italian','Polish','Dutch','European','Swiss','North European',\n",
    "                                    'Canadian','Finnish','german','Scottish','Ukrainian',\n",
    "                                    'Romanian','Bulgarian','Spanish','Lithuanian','British or English','Scandinavian',\n",
    "                                     'Western European','Irish','Scot - Irish','French-Canadian','Swiss/American',\n",
    "                                     'Eastern European', 'French Acadian'], 6)\n",
    "    \n",
    "    # Race Not on Application/ Not specified: 7 \n",
    "    df['Race'] = df['Race'].replace(['Prefer not to say', 'No Application - Letter Only','Not on Application', 'not latino or hispanic',\n",
    "                                     'not hispanic or lation','Not hispanic or Lation','not hispanice or latino',\n",
    "                                     'Not Hispnic or Latino', 'Not hispanic or Latino', 'Not Hispanice or Latino',\n",
    "                                     'Not Hispanic of Latino', 'Not Hispanic or Latino','Not hispanic or latino',\n",
    "                                     'nor hispanic or latino','not hispanic or latino','Not Hispanic or Lation',\n",
    "                                     'Not Hispanic or latino'], 7)\n",
    "    \n",
    "    # Mixed Nationality 8\n",
    "    df['Race'] = df['Race'].replace(['German/Irish American','Irish/American','Italian American','German / Slovak',\n",
    "                                     'Yugoslav / Swedish','Irish / Scottish / German', 'Chinese / German',\n",
    "                                     'European American','Scottish-German','English / Irish', 'French Canadian',\n",
    "                                     'French Canadian/American','Irish/Spanish','Irish / Mexican', 'Appalachian / American',\n",
    "                                     'Scotttish/Irish/Norwegian','Chinese/German','German / American',\n",
    "                                     'Irish/Italian/English/Dutch','Japanese / Scandinavian','Irish/Italian',\n",
    "                                     'Spanish/Italian','Italian / French', 'British / American','European / American',\n",
    "                                     'Italian / Portuguese / American', 'Mexican/Greek', 'Irish American',\n",
    "                                     'African / European / Carribean','Irish / American', 'Lebanese French Canadian',\n",
    "                                     'Korean / English','Western European / American'], 8)\n",
    "    \n",
    "    # Other: 9 \n",
    "    df['Race'] = df['Race'].replace(['Viking','Other','Elf','Human','other','Vikng','Pennsylvania Dutch','Texan','Yankee',\n",
    "                                     'Hawaiian','Melungeon','American','Angelic','Alaska Native','Jewish',\n",
    "                                     'American Mutt','Appalachian American', 'Polsih American'], 9)\n",
    "    \n",
    "    \n",
    "     \n",
    "\n",
    "clean_9(at)"
   ]
  },
  {
   "cell_type": "code",
   "execution_count": 81,
   "metadata": {
    "collapsed": false
   },
   "outputs": [
    {
     "data": {
      "text/plain": [
       "Counter({0: 5588,\n",
       "         1: 18,\n",
       "         2: 89,\n",
       "         3: 58,\n",
       "         4: 13,\n",
       "         5: 61,\n",
       "         6: 45,\n",
       "         7: 6970,\n",
       "         8: 40,\n",
       "         9: 59})"
      ]
     },
     "execution_count": 81,
     "metadata": {},
     "output_type": "execute_result"
    }
   ],
   "source": [
    "from collections import Counter\n",
    "Counter(at['Race'])"
   ]
  },
  {
   "cell_type": "code",
   "execution_count": 82,
   "metadata": {
    "collapsed": false,
    "scrolled": true
   },
   "outputs": [],
   "source": [
    "def clean_10(df):\n",
    "    df.reset_index(inplace = True, drop = True)\n",
    "clean_10(at)"
   ]
  },
  {
   "cell_type": "code",
   "execution_count": 83,
   "metadata": {
    "collapsed": false
   },
   "outputs": [
    {
     "data": {
      "text/html": [
       "<div>\n",
       "<table border=\"1\" class=\"dataframe\">\n",
       "  <thead>\n",
       "    <tr style=\"text-align: right;\">\n",
       "      <th></th>\n",
       "      <th>Finish</th>\n",
       "      <th>Age</th>\n",
       "      <th>Race</th>\n",
       "      <th>State</th>\n",
       "      <th>Sex</th>\n",
       "      <th>Country</th>\n",
       "      <th>Hike_Type</th>\n",
       "      <th>Start</th>\n",
       "      <th>completion_yr</th>\n",
       "      <th>HikedWDog</th>\n",
       "      <th>WinterHike</th>\n",
       "      <th>Under2KSpent</th>\n",
       "      <th>SchoolCredit</th>\n",
       "      <th>Minority</th>\n",
       "      <th>Vegetarian</th>\n",
       "      <th>DehydrateOwnFood</th>\n",
       "      <th>Giardia</th>\n",
       "      <th>Lyme</th>\n",
       "      <th>Norovirus</th>\n",
       "      <th>Total_Days</th>\n",
       "    </tr>\n",
       "  </thead>\n",
       "  <tbody>\n",
       "    <tr>\n",
       "      <th>0</th>\n",
       "      <td>1948-12-31</td>\n",
       "      <td>29.0</td>\n",
       "      <td>7</td>\n",
       "      <td>PA</td>\n",
       "      <td>0</td>\n",
       "      <td>USA</td>\n",
       "      <td>NOBO</td>\n",
       "      <td>1948-01-01</td>\n",
       "      <td>1948</td>\n",
       "      <td>False</td>\n",
       "      <td>False</td>\n",
       "      <td>False</td>\n",
       "      <td>False</td>\n",
       "      <td>False</td>\n",
       "      <td>False</td>\n",
       "      <td>False</td>\n",
       "      <td>False</td>\n",
       "      <td>False</td>\n",
       "      <td>False</td>\n",
       "      <td>365 days</td>\n",
       "    </tr>\n",
       "    <tr>\n",
       "      <th>1</th>\n",
       "      <td>1951-10-10</td>\n",
       "      <td>28.0</td>\n",
       "      <td>7</td>\n",
       "      <td>CT</td>\n",
       "      <td>0</td>\n",
       "      <td>USA</td>\n",
       "      <td>SOBO</td>\n",
       "      <td>1951-05-30</td>\n",
       "      <td>1951</td>\n",
       "      <td>False</td>\n",
       "      <td>False</td>\n",
       "      <td>False</td>\n",
       "      <td>False</td>\n",
       "      <td>False</td>\n",
       "      <td>False</td>\n",
       "      <td>False</td>\n",
       "      <td>False</td>\n",
       "      <td>False</td>\n",
       "      <td>False</td>\n",
       "      <td>133 days</td>\n",
       "    </tr>\n",
       "    <tr>\n",
       "      <th>2</th>\n",
       "      <td>1951-09-30</td>\n",
       "      <td>29.0</td>\n",
       "      <td>7</td>\n",
       "      <td>GA</td>\n",
       "      <td>0</td>\n",
       "      <td>USA</td>\n",
       "      <td>NOBO</td>\n",
       "      <td>1951-05-31</td>\n",
       "      <td>1951</td>\n",
       "      <td>False</td>\n",
       "      <td>False</td>\n",
       "      <td>False</td>\n",
       "      <td>False</td>\n",
       "      <td>False</td>\n",
       "      <td>False</td>\n",
       "      <td>False</td>\n",
       "      <td>False</td>\n",
       "      <td>False</td>\n",
       "      <td>False</td>\n",
       "      <td>122 days</td>\n",
       "    </tr>\n",
       "    <tr>\n",
       "      <th>3</th>\n",
       "      <td>1959-09-17</td>\n",
       "      <td>20.0</td>\n",
       "      <td>0</td>\n",
       "      <td>GA</td>\n",
       "      <td>0</td>\n",
       "      <td>USA</td>\n",
       "      <td>NOBO</td>\n",
       "      <td>1959-05-23</td>\n",
       "      <td>1959</td>\n",
       "      <td>False</td>\n",
       "      <td>False</td>\n",
       "      <td>False</td>\n",
       "      <td>False</td>\n",
       "      <td>False</td>\n",
       "      <td>False</td>\n",
       "      <td>False</td>\n",
       "      <td>False</td>\n",
       "      <td>False</td>\n",
       "      <td>False</td>\n",
       "      <td>117 days</td>\n",
       "    </tr>\n",
       "    <tr>\n",
       "      <th>4</th>\n",
       "      <td>1965-09-23</td>\n",
       "      <td>29.0</td>\n",
       "      <td>7</td>\n",
       "      <td>PA</td>\n",
       "      <td>0</td>\n",
       "      <td>USA</td>\n",
       "      <td>SOBO</td>\n",
       "      <td>1965-04-16</td>\n",
       "      <td>1965</td>\n",
       "      <td>False</td>\n",
       "      <td>False</td>\n",
       "      <td>False</td>\n",
       "      <td>False</td>\n",
       "      <td>False</td>\n",
       "      <td>False</td>\n",
       "      <td>False</td>\n",
       "      <td>False</td>\n",
       "      <td>False</td>\n",
       "      <td>False</td>\n",
       "      <td>160 days</td>\n",
       "    </tr>\n",
       "  </tbody>\n",
       "</table>\n",
       "</div>"
      ],
      "text/plain": [
       "      Finish   Age  Race State  Sex Country Hike_Type      Start  \\\n",
       "0 1948-12-31  29.0     7    PA    0     USA      NOBO 1948-01-01   \n",
       "1 1951-10-10  28.0     7    CT    0     USA      SOBO 1951-05-30   \n",
       "2 1951-09-30  29.0     7    GA    0     USA      NOBO 1951-05-31   \n",
       "3 1959-09-17  20.0     0    GA    0     USA      NOBO 1959-05-23   \n",
       "4 1965-09-23  29.0     7    PA    0     USA      SOBO 1965-04-16   \n",
       "\n",
       "   completion_yr HikedWDog WinterHike Under2KSpent SchoolCredit Minority  \\\n",
       "0           1948     False      False        False        False    False   \n",
       "1           1951     False      False        False        False    False   \n",
       "2           1951     False      False        False        False    False   \n",
       "3           1959     False      False        False        False    False   \n",
       "4           1965     False      False        False        False    False   \n",
       "\n",
       "  Vegetarian DehydrateOwnFood Giardia   Lyme Norovirus  Total_Days  \n",
       "0      False            False   False  False     False    365 days  \n",
       "1      False            False   False  False     False    133 days  \n",
       "2      False            False   False  False     False    122 days  \n",
       "3      False            False   False  False     False    117 days  \n",
       "4      False            False   False  False     False    160 days  "
      ]
     },
     "execution_count": 83,
     "metadata": {},
     "output_type": "execute_result"
    }
   ],
   "source": [
    "at.head()\n"
   ]
  },
  {
   "cell_type": "code",
   "execution_count": null,
   "metadata": {
    "collapsed": false
   },
   "outputs": [],
   "source": []
  },
  {
   "cell_type": "code",
   "execution_count": null,
   "metadata": {
    "collapsed": true
   },
   "outputs": [],
   "source": [
    "#plt.figure(figsize = (10,10))\n",
    "#null.plot(kind = 'bar')"
   ]
  },
  {
   "cell_type": "code",
   "execution_count": null,
   "metadata": {
    "collapsed": true
   },
   "outputs": [],
   "source": [
    "# Exploratory analysis"
   ]
  },
  {
   "cell_type": "code",
   "execution_count": null,
   "metadata": {
    "collapsed": false
   },
   "outputs": [],
   "source": [
    "# Null values by column \n",
    "#plt.figure(figsize = (10,10))\n",
    "#z = at.isnull().sum()\n",
    "#z.plot(kind = 'bar')"
   ]
  }
 ],
 "metadata": {
  "anaconda-cloud": {},
  "kernelspec": {
   "display_name": "Python [default]",
   "language": "python",
   "name": "python3"
  },
  "language_info": {
   "codemirror_mode": {
    "name": "ipython",
    "version": 3
   },
   "file_extension": ".py",
   "mimetype": "text/x-python",
   "name": "python",
   "nbconvert_exporter": "python",
   "pygments_lexer": "ipython3",
   "version": "3.5.2"
  }
 },
 "nbformat": 4,
 "nbformat_minor": 1
}
