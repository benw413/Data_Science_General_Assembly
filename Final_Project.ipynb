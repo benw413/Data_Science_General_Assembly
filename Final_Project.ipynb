{
 "cells": [
  {
   "cell_type": "markdown",
   "metadata": {},
   "source": [
    "## Data Science Immesive Final Project (General Assembly ATX Spring 2017)"
   ]
  },
  {
   "cell_type": "markdown",
   "metadata": {},
   "source": [
    "#### Idea. Predict time on trail from features of dataset  \n",
    "## What sort of things can I add to this dataset? Weather,etc..\n",
    "My data was obtained through the Appalachian Trail Conservancy. I called and asked for all availible data on Thru hikers. Talk about form. "
   ]
  },
  {
   "cell_type": "code",
   "execution_count": null,
   "metadata": {
    "collapsed": true
   },
   "outputs": [],
   "source": [
    "import pandas as pd\n",
    "import matplotlib.pyplot as plt\n",
    "%matplotlib inline\n",
    "import seaborn as sns"
   ]
  },
  {
   "cell_type": "code",
   "execution_count": null,
   "metadata": {
    "collapsed": true
   },
   "outputs": [],
   "source": [
    "at = pd.read_excel('BenHikersInfo.xlsx')"
   ]
  },
  {
   "cell_type": "code",
   "execution_count": null,
   "metadata": {
    "collapsed": false
   },
   "outputs": [],
   "source": [
    "at.head()"
   ]
  },
  {
   "cell_type": "markdown",
   "metadata": {},
   "source": [
    "#### Exploratory Analysis"
   ]
  },
  {
   "cell_type": "code",
   "execution_count": null,
   "metadata": {
    "collapsed": false
   },
   "outputs": [],
   "source": [
    "at['Yr Comp'].isnull().sum()"
   ]
  },
  {
   "cell_type": "code",
   "execution_count": null,
   "metadata": {
    "collapsed": false
   },
   "outputs": [],
   "source": [
    "at.describe()"
   ]
  },
  {
   "cell_type": "code",
   "execution_count": null,
   "metadata": {
    "collapsed": false
   },
   "outputs": [],
   "source": [
    "# Null values by column \n",
    "plt.figure(figsize = (10,10))\n",
    "z = at.isnull().sum()\n",
    "z.plot(kind = 'bar')"
   ]
  },
  {
   "cell_type": "code",
   "execution_count": null,
   "metadata": {
    "collapsed": false
   },
   "outputs": [],
   "source": [
    "at['Hiking_Disability'].nunique()"
   ]
  },
  {
   "cell_type": "markdown",
   "metadata": {},
   "source": [
    "# How I have cleaned this DataSet: \n",
    "I explore the data column by column to understand what sort of missing or inaccurate values are contained.\n",
    "\n",
    "def (clean_1): Columns that can/will be dropped\n",
    "- Rename columns to be more accurate.\n",
    "- Drop 'Days Elapsed' column as it does not accuratly calculate the number of days on trail. (I replace this column in clean_2 with 'Total_Days')\n",
    "- Drop 'Hiking_Disability' Column as it was not well reported ()\n",
    "- Drop Dog Weight Column (16238 of possible 17835 values were 0)\n",
    "- Drop columns with too many null values (columns that exceed 85 percent null values)\n",
    "- drop null values out of columns\n",
    "- Drop Under2kAmount column since (16125 out of 17835) values were 0 essentially the same as null values \n",
    "\n",
    "\n",
    "def (clean_2/clean_3): Clean up the Age column \n",
    "- Fill null values in 'Age' column with median age.\n",
    "- All values below 4(There were some negative values) \n",
    "- The youngest person to thru-hike the AT is 5 so I assume all values above this are \n",
    "\n",
    " \n",
    "    \n",
    "def (clean_4): Datetime objects, \n",
    "-  Convert 'Start' and 'Finish' columns to Datetime objects\n",
    "-  Create a new column 'Total Days' that calculates total days on trail (at['Finish] - at['Start'])) \n",
    "-  There was as single null value in completion year, however, the finish date showed the hiker completed in 2016 so I changed the value to 2016 \n",
    "- I conveted the completion yr column from floats to ints \n",
    "\n",
    "\n",
    "\n",
    "def (clean_5): Clean up 'Sex' column\n",
    "- In (clean_1) I dropped all null values in this column \n",
    "- Drop 'oher' and 'othe' out of the sex column\n",
    "- Convert the 'Sex' column to numerical format with the map function\n",
    "\n",
    "\n",
    "\n",
    "\n",
    "\n",
    "\n",
    "\n",
    "\n"
   ]
  },
  {
   "cell_type": "markdown",
   "metadata": {},
   "source": [
    "To do \n",
    "1.) # Find out whether the section column included is a thru section. \n",
    "2.) Dropped a column that had a finish date of 2022 as year 17369\n",
    "3.) Figure out how to combine lime, noro, and giardia \n",
    "\n",
    "\n"
   ]
  },
  {
   "cell_type": "markdown",
   "metadata": {},
   "source": [
    "## Data Exploration"
   ]
  },
  {
   "cell_type": "markdown",
   "metadata": {},
   "source": [
    "## Cleaning Dataset"
   ]
  },
  {
   "cell_type": "code",
   "execution_count": null,
   "metadata": {
    "collapsed": false
   },
   "outputs": [],
   "source": [
    "def clean_1(df):\n",
    "    df.drop(labels = df[['Disease Other','School','DogWeightLbs','Days Elapsed','MinorityComments','School',\n",
    "                         'DogBreed','Disability','Under2KAmount']], axis = 1, inplace = True)\n",
    "    df.rename(columns = {'AgeYrFin': 'Age','Race or Heritage': 'Race',\n",
    "                        'StAbbrev':'State', 'Hiking Disability ': 'Hiking_Disability', \n",
    "                         'Hike Type': 'Hike_Type', 'Yr Comp':'completion_yr',\n",
    "                         'Hiking Disability':'Hiking_Disability'},inplace = True)\n",
    "    df.dropna(subset= ['Start','Sex','Race','Country','State','Hike_Type'],inplace = True)\n",
    "\n",
    "clean_1(at)  "
   ]
  },
  {
   "cell_type": "code",
   "execution_count": null,
   "metadata": {
    "collapsed": true
   },
   "outputs": [],
   "source": [
    "def clean_2(df):\n",
    "    df['Age'] = df['Age'].fillna(df['Age'].median())\n",
    "clean_2(at)\n",
    "\n",
    "\n",
    "def clean_3(x,median_age): \n",
    "    if x < 4:\n",
    "        return median_age\n",
    "    else:\n",
    "        return x \n",
    "at['Age'] = at['Age'].apply(lambda x: clean_3(x, at['Age'].median()))"
   ]
  },
  {
   "cell_type": "code",
   "execution_count": null,
   "metadata": {
    "collapsed": false
   },
   "outputs": [],
   "source": [
    "def clean_4(df):\n",
    "    df['Finish'] = pd.to_datetime(df['Finish'])\n",
    "    df['Start'] = pd.to_datetime(df['Start'])\n",
    "    df['Total_Days'] = df['Finish'] - df['Start']\n",
    "    df['completion_yr'].fillna(2016,inplace = True)\n",
    "    df['completion_yr'] = df['completion_yr'].astype(int)\n",
    "clean_4(at)"
   ]
  },
  {
   "cell_type": "code",
   "execution_count": null,
   "metadata": {
    "collapsed": true
   },
   "outputs": [],
   "source": [
    "def clean_5(df):\n",
    "    df['Sex'] = df['Sex'].map({'M':0,'F':1})\n",
    "    to_drop = ['othe','Oher']\n",
    "    x = df[df['Sex'].isin(to_drop)]\n",
    "    y = x.index\n",
    "    df.drop(y,inplace = True)\n",
    "clean_5(at)"
   ]
  },
  {
   "cell_type": "code",
   "execution_count": null,
   "metadata": {
    "collapsed": false
   },
   "outputs": [],
   "source": [
    "at['Sex'].value_counts()"
   ]
  },
  {
   "cell_type": "code",
   "execution_count": null,
   "metadata": {
    "collapsed": false
   },
   "outputs": [],
   "source": [
    "# drop hike types that are 'Alternative','alternative','Alterntive'\n",
    "def clean_5(df):\n",
    "    to_drop = ['Alternative','alternative','Alterntive']\n",
    "    x = df[df['Hike_Type'].isin(to_drop)]\n",
    "    y = x.index\n",
    "    df.drop(y,inplace = True)\n",
    "clean_5(at)\n",
    "\n"
   ]
  },
  {
   "cell_type": "code",
   "execution_count": null,
   "metadata": {
    "collapsed": true
   },
   "outputs": [],
   "source": [
    "\n",
    "df.drop(df.index[[17264,17236,17369]], inplace = True)"
   ]
  },
  {
   "cell_type": "code",
   "execution_count": null,
   "metadata": {
    "collapsed": false,
    "scrolled": true
   },
   "outputs": [],
   "source": [
    "at.ix[17107].to_frame().T\n"
   ]
  },
  {
   "cell_type": "code",
   "execution_count": null,
   "metadata": {
    "collapsed": false
   },
   "outputs": [],
   "source": [
    "df.drop([17264,17236])"
   ]
  },
  {
   "cell_type": "code",
   "execution_count": null,
   "metadata": {
    "collapsed": true
   },
   "outputs": [],
   "source": [
    "#plt.figure(figsize = (10,10))\n",
    "#null.plot(kind = 'bar')"
   ]
  },
  {
   "cell_type": "markdown",
   "metadata": {},
   "source": [
    "# Notes on How I have cleaned my DataSet\n",
    "\n",
    "\n",
    "\n",
    "\n",
    "\n",
    "\n",
    "4.) Drop Dog Weight Column 16238 of possible 17835 values were 0. So nearly the same as null \n",
    "\n",
    "5.) Drop Under2kAmount column 16125 of 17835 values were 0. It was just not self reported very well\n",
    "\n",
    "4.) Rename Columns with spaces in them or w/ confusing names. \n",
    "\n",
    "5.) Replace Null Values in yr completed with 2016 since we do know his start date* \n",
    "\n",
    "6.) Drop oher and othe out of the sex column\n",
    "\n",
    "7.) Convert null values in age column to mean. I checked out a distplot for how this would change\n",
    "with using mean,median or mode, and not alot of change. \n",
    "\n",
    "8.) Dropped a column that had a finish date of 2022 as year 17369\n",
    "\n",
    "9.)\n",
    "\n",
    "10.) # Find out whether the section column included is a thru section. \n",
    "\n",
    "11.)\n",
    "\n",
    "12.)\n",
    "\n",
    "13.)"
   ]
  },
  {
   "cell_type": "code",
   "execution_count": null,
   "metadata": {
    "collapsed": false
   },
   "outputs": [],
   "source": [
    "2.576 * .0087"
   ]
  },
  {
   "cell_type": "code",
   "execution_count": null,
   "metadata": {
    "collapsed": true
   },
   "outputs": [],
   "source": [
    "def clean_6(df):\n",
    "    if df < 4:\n",
    "        return df['Age'].fillna(df['Age'].mean())\n",
    "at.apply(clean_6)\n",
    "\n"
   ]
  }
 ],
 "metadata": {
  "anaconda-cloud": {},
  "kernelspec": {
   "display_name": "Python [default]",
   "language": "python",
   "name": "python3"
  },
  "language_info": {
   "codemirror_mode": {
    "name": "ipython",
    "version": 3
   },
   "file_extension": ".py",
   "mimetype": "text/x-python",
   "name": "python",
   "nbconvert_exporter": "python",
   "pygments_lexer": "ipython3",
   "version": "3.5.2"
  }
 },
 "nbformat": 4,
 "nbformat_minor": 1
}
